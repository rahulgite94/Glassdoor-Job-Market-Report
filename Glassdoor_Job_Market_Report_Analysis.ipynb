{
 "cells": [
  {
   "cell_type": "markdown",
   "metadata": {},
   "source": [
    "The Dataset we will be analysing is the Glassdoor's Job Market Report. We will be looking for 5 months of data ie from May 2019 to September-2019. \n",
    "The Datasets can be downloaded from below link: \n",
    "https://www.glassdoor.com/research/data-sets/job-market-report-historical/.\n",
    "Download the following files: September 2019, August 2019,July 2019,June 2019 and May 2019.\n",
    "\n",
    "Keep the downloaded file in the same folder where your Jupyter notebook is stored.<br>\n",
    "Hypothesis coverd:\n",
    "1.  Which is the highest paying job in the last 5 months.\n",
    "\n",
    "2. What is the highest paid job in each metro.\n",
    "\n",
    "3. Which one is more, Technology Jobs or Non-Technology jobs?\n",
    "\n",
    "4. Which metro gives the highest paid Data Science Job. "
   ]
  },
  {
   "cell_type": "code",
   "execution_count": 1,
   "metadata": {},
   "outputs": [],
   "source": [
    "import pandas as pd\n",
    "import matplotlib.pyplot as plt\n",
    "import seaborn as sns"
   ]
  },
  {
   "cell_type": "code",
   "execution_count": 2,
   "metadata": {},
   "outputs": [],
   "source": [
    "sept=pd.read_excel('JMR_data-2019-09.xlsx')\n",
    "aug=pd.read_excel('JMR_data-2019-08.xlsx')\n",
    "july=pd.read_excel('JMR_data-2019-07.xlsx')\n",
    "june=pd.read_excel('JMR_data-2019-06.xlsx')\n",
    "may=pd.read_excel('JMR_data-2019-05.xlsx')"
   ]
  },
  {
   "cell_type": "markdown",
   "metadata": {},
   "source": [
    "As we can see we have loaded the 5 months of data from month of may to september. Now lets explore the data."
   ]
  },
  {
   "cell_type": "code",
   "execution_count": 3,
   "metadata": {},
   "outputs": [
    {
     "data": {
      "text/html": [
       "<div>\n",
       "<style scoped>\n",
       "    .dataframe tbody tr th:only-of-type {\n",
       "        vertical-align: middle;\n",
       "    }\n",
       "\n",
       "    .dataframe tbody tr th {\n",
       "        vertical-align: top;\n",
       "    }\n",
       "\n",
       "    .dataframe thead th {\n",
       "        text-align: right;\n",
       "    }\n",
       "</style>\n",
       "<table border=\"1\" class=\"dataframe\">\n",
       "  <thead>\n",
       "    <tr style=\"text-align: right;\">\n",
       "      <th></th>\n",
       "      <th>Metro</th>\n",
       "      <th>Dimension Type</th>\n",
       "      <th>Month</th>\n",
       "      <th>Dimension</th>\n",
       "      <th>Measure</th>\n",
       "      <th>Value</th>\n",
       "      <th>YoY</th>\n",
       "    </tr>\n",
       "  </thead>\n",
       "  <tbody>\n",
       "    <tr>\n",
       "      <th>0</th>\n",
       "      <td>National</td>\n",
       "      <td>Quick Facts</td>\n",
       "      <td>2019-09</td>\n",
       "      <td>U.S. Job Openings</td>\n",
       "      <td>U.S. Job Openings</td>\n",
       "      <td>5,960,400</td>\n",
       "      <td>3.5%</td>\n",
       "    </tr>\n",
       "    <tr>\n",
       "      <th>1</th>\n",
       "      <td>National</td>\n",
       "      <td>Quick Facts</td>\n",
       "      <td>2019-09</td>\n",
       "      <td>U.S. Median Pay</td>\n",
       "      <td>U.S. Median Pay</td>\n",
       "      <td>$ 54,179</td>\n",
       "      <td>2.1%</td>\n",
       "    </tr>\n",
       "    <tr>\n",
       "      <th>2</th>\n",
       "      <td>Atlanta</td>\n",
       "      <td>Quick Facts</td>\n",
       "      <td>2019-09</td>\n",
       "      <td>Metro Job Openings</td>\n",
       "      <td>Metro Job Openings</td>\n",
       "      <td>122,889</td>\n",
       "      <td>5.5%</td>\n",
       "    </tr>\n",
       "    <tr>\n",
       "      <th>3</th>\n",
       "      <td>Atlanta</td>\n",
       "      <td>Quick Facts</td>\n",
       "      <td>2019-09</td>\n",
       "      <td>U.S. Job Openings</td>\n",
       "      <td>U.S. Job Openings</td>\n",
       "      <td>5,960,400</td>\n",
       "      <td>3.5%</td>\n",
       "    </tr>\n",
       "    <tr>\n",
       "      <th>4</th>\n",
       "      <td>Atlanta</td>\n",
       "      <td>Quick Facts</td>\n",
       "      <td>2019-09</td>\n",
       "      <td>Metro Median Pay</td>\n",
       "      <td>Metro Median Pay</td>\n",
       "      <td>$ 56,059</td>\n",
       "      <td>3.0%</td>\n",
       "    </tr>\n",
       "  </tbody>\n",
       "</table>\n",
       "</div>"
      ],
      "text/plain": [
       "      Metro Dimension Type    Month           Dimension             Measure  \\\n",
       "0  National    Quick Facts  2019-09   U.S. Job Openings   U.S. Job Openings   \n",
       "1  National    Quick Facts  2019-09     U.S. Median Pay     U.S. Median Pay   \n",
       "2   Atlanta    Quick Facts  2019-09  Metro Job Openings  Metro Job Openings   \n",
       "3   Atlanta    Quick Facts  2019-09   U.S. Job Openings   U.S. Job Openings   \n",
       "4   Atlanta    Quick Facts  2019-09    Metro Median Pay    Metro Median Pay   \n",
       "\n",
       "       Value   YoY  \n",
       "0  5,960,400  3.5%  \n",
       "1   $ 54,179  2.1%  \n",
       "2    122,889  5.5%  \n",
       "3  5,960,400  3.5%  \n",
       "4   $ 56,059  3.0%  "
      ]
     },
     "execution_count": 3,
     "metadata": {},
     "output_type": "execute_result"
    }
   ],
   "source": [
    "sept.head()"
   ]
  },
  {
   "cell_type": "code",
   "execution_count": 4,
   "metadata": {},
   "outputs": [
    {
     "data": {
      "text/plain": [
       "(4794, 7)"
      ]
     },
     "execution_count": 4,
     "metadata": {},
     "output_type": "execute_result"
    }
   ],
   "source": [
    "sept.shape"
   ]
  },
  {
   "cell_type": "markdown",
   "metadata": {},
   "source": [
    "Lets check that we have same columns in every dataframe."
   ]
  },
  {
   "cell_type": "code",
   "execution_count": 5,
   "metadata": {},
   "outputs": [
    {
     "name": "stdout",
     "output_type": "stream",
     "text": [
      "Index(['Metro', 'Dimension Type', 'Month', 'Dimension', 'Measure', 'Value',\n",
      "       'YoY'],\n",
      "      dtype='object')\n",
      "Index(['Metro', 'Dimension Type', 'Month', 'Dimension', 'Measure', 'Value',\n",
      "       'YoY'],\n",
      "      dtype='object')\n",
      "Index(['Metro', 'Dimension Type', 'Month', 'Dimension', 'Measure', 'Value',\n",
      "       'YoY'],\n",
      "      dtype='object')\n",
      "Index(['Metro', 'Dimension Type', 'Month', 'Dimension', 'Measure', 'Value',\n",
      "       'YoY'],\n",
      "      dtype='object')\n",
      "Index(['Metro', 'Dimension Type', 'Month', 'Dimension', 'Measure', 'Value',\n",
      "       'YoY'],\n",
      "      dtype='object')\n"
     ]
    }
   ],
   "source": [
    "print(sept.columns)\n",
    "print(aug.columns)\n",
    "print(july.columns)\n",
    "print(june.columns)\n",
    "print(may.columns)"
   ]
  },
  {
   "cell_type": "markdown",
   "metadata": {},
   "source": [
    "Lets check all the unique value of the columns for a dataframe."
   ]
  },
  {
   "cell_type": "markdown",
   "metadata": {},
   "source": [
    "Cheking all the metro"
   ]
  },
  {
   "cell_type": "code",
   "execution_count": 6,
   "metadata": {},
   "outputs": [
    {
     "data": {
      "text/plain": [
       "array(['National', 'Atlanta', 'New York City', 'Los Angeles',\n",
       "       'Philadelphia', 'Houston', 'Seattle', 'San Francisco', 'Chicago',\n",
       "       'Boston', 'Washington DC', 'U.S.'], dtype=object)"
      ]
     },
     "execution_count": 6,
     "metadata": {},
     "output_type": "execute_result"
    }
   ],
   "source": [
    "sept['Metro'].unique()"
   ]
  },
  {
   "cell_type": "markdown",
   "metadata": {},
   "source": [
    "Before checking 'Dimension Type' lets rename it to 'Dimension_Type'"
   ]
  },
  {
   "cell_type": "code",
   "execution_count": 7,
   "metadata": {},
   "outputs": [],
   "source": [
    "sept.rename(columns={'Dimension Type':'Dimension_Type'}, inplace=True)\n",
    "aug.rename(columns={'Dimension Type':'Dimension_Type'}, inplace=True)\n",
    "july.rename(columns={'Dimension Type':'Dimension_Type'}, inplace=True)\n",
    "june.rename(columns={'Dimension Type':'Dimension_Type'}, inplace=True)\n",
    "may.rename(columns={'Dimension Type':'Dimension_Type'}, inplace=True)"
   ]
  },
  {
   "cell_type": "markdown",
   "metadata": {},
   "source": [
    "For each metro we have 5 dimension type assigned"
   ]
  },
  {
   "cell_type": "code",
   "execution_count": 8,
   "metadata": {},
   "outputs": [
    {
     "data": {
      "text/plain": [
       "array(['Quick Facts', 'Job Title', 'Company Size', 'Industry',\n",
       "       'Timeseries'], dtype=object)"
      ]
     },
     "execution_count": 8,
     "metadata": {},
     "output_type": "execute_result"
    }
   ],
   "source": [
    "sept['Dimension_Type'].unique()"
   ]
  },
  {
   "cell_type": "markdown",
   "metadata": {},
   "source": [
    "We have lots of dimension defined for the data, mainly in consist of job categories"
   ]
  },
  {
   "cell_type": "code",
   "execution_count": 9,
   "metadata": {
    "scrolled": true
   },
   "outputs": [
    {
     "data": {
      "text/plain": [
       "array(['U.S. Job Openings', 'U.S. Median Pay', 'Metro Job Openings',\n",
       "       'Metro Median Pay', 'Accountant', 'Administrative Assistant',\n",
       "       'Attorney', 'Bank Teller', 'Barista', 'Bartender',\n",
       "       'Business Analyst', 'Business Development Manager', 'Buyer',\n",
       "       'Cashier', 'Certified Nursing Assistant', 'Civil Engineer',\n",
       "       'Claims Adjuster', 'Communications Manager',\n",
       "       'Construction Laborer', 'Consultant', 'Customer Service Manager',\n",
       "       'Customer Service Representative', 'Data Analyst',\n",
       "       'Data Scientist', 'Delivery Driver', 'Design Engineer',\n",
       "       'Electrical Engineer', 'Emergency Medical Technician',\n",
       "       'Field Engineer', 'Financial Advisor', 'Financial Analyst',\n",
       "       'Graphic Designer', 'Human Resources Manager', 'Insurance Agent',\n",
       "       'IT Manager', 'Java Developer', 'Licensed Practical Nurse',\n",
       "       'Loan Officer', 'Machine Operator', 'Maintenance Technician',\n",
       "       'Maintenance Worker', 'Manufacturing Engineer',\n",
       "       'Marketing Manager', 'Material Handler', 'Mechanical Engineer',\n",
       "       'Medical Assistant', 'Medical Technologist', 'Office Manager',\n",
       "       'Operations Analyst', 'Operations Manager', 'Paralegal',\n",
       "       'Pharmacist', 'Pharmacy Technician', 'Physical Therapist',\n",
       "       'Process Engineer', 'Producer', 'Product Manager',\n",
       "       'Production Manager', 'Professor', 'Program Manager',\n",
       "       'Programmer Analyst', 'Project Manager', 'Property Manager',\n",
       "       'Quality Engineer', 'Recruiter', 'Registered Nurse',\n",
       "       'Research Assistant', 'Restaurant Cook', 'Restaurant Manager',\n",
       "       'Retail Key Holder', 'Sales Manager', 'Sales Representative',\n",
       "       'Security Officer', 'Server', 'Software Engineer',\n",
       "       'Solutions Architect', 'Store Manager', 'Systems Engineer',\n",
       "       'Tax Manager', 'Teacher', 'Technical Editor', 'Technical Support',\n",
       "       'Technician', 'Truck Driver', 'UX Designer', 'Warehouse Associate',\n",
       "       'Web Designer', 'Web Developer', '1001-5000', '<51', '201-500',\n",
       "       '5000+', '501-1000', '51-200', 'Accounting & Legal',\n",
       "       'Aerospace & Defense', 'Architecture & Civil Engineering',\n",
       "       'Arts & Entertainment', 'Automotive',\n",
       "       'Banking & Financial Services', 'Beauty & Fitness',\n",
       "       'Biotech & Pharmaceuticals', 'Business Services',\n",
       "       'Computer Software & Hardware', 'Construction', 'Consulting',\n",
       "       'Consumer Electronics', 'Consumer Services', 'Education & Schools',\n",
       "       'Energy & Utilities', 'Facilities', 'Farming & Agriculture',\n",
       "       'Government', 'Health Care & Hospitals', 'Information Technology',\n",
       "       'Insurance', 'Internet & Tech', 'Manufacturing',\n",
       "       'Marketing & Advertising', 'Media & Publishing', 'Nonprofit',\n",
       "       'Private Security', 'Real Estate', 'Recruiting & Staffing',\n",
       "       'Restaurants & Bars', 'Retail', 'Supermarkets',\n",
       "       'Telecommunications', 'Transportation & Logistics',\n",
       "       'Travel & Tourism', 'Wholesale', 'Metro Median Base Pay',\n",
       "       'Job Openings', 'Other', nan], dtype=object)"
      ]
     },
     "execution_count": 9,
     "metadata": {},
     "output_type": "execute_result"
    }
   ],
   "source": [
    "sept['Dimension'].unique()"
   ]
  },
  {
   "cell_type": "markdown",
   "metadata": {},
   "source": [
    "The measure column deals with the job opening, and the Pay"
   ]
  },
  {
   "cell_type": "code",
   "execution_count": 10,
   "metadata": {},
   "outputs": [
    {
     "data": {
      "text/plain": [
       "array(['U.S. Job Openings', 'U.S. Median Pay', 'Metro Job Openings',\n",
       "       'Metro Median Pay', 'Median Base Pay', 'Job Openings'],\n",
       "      dtype=object)"
      ]
     },
     "execution_count": 10,
     "metadata": {},
     "output_type": "execute_result"
    }
   ],
   "source": [
    "sept['Measure'].unique()"
   ]
  },
  {
   "cell_type": "markdown",
   "metadata": {},
   "source": [
    "#### The data sets are very meesy and to fetch something out of them we have to divide them into sub categories."
   ]
  },
  {
   "cell_type": "markdown",
   "metadata": {},
   "source": [
    "#### Seprating the dataset based on the 'Dimension_Type' column, for each month."
   ]
  },
  {
   "cell_type": "code",
   "execution_count": 11,
   "metadata": {},
   "outputs": [],
   "source": [
    "quick_facts_sept = sept[sept['Dimension_Type'] == 'Quick Facts']\n",
    "job_title_sept = sept[sept['Dimension_Type'] == 'Job Title']\n",
    "company_size_sept = sept[sept['Dimension_Type'] == 'Company Size']\n",
    "industry_sept = sept[sept['Dimension_Type'] == 'Industry']\n",
    "timeserie_sept = sept[sept['Dimension_Type'] == 'Timeseries']"
   ]
  },
  {
   "cell_type": "code",
   "execution_count": 12,
   "metadata": {},
   "outputs": [],
   "source": [
    "quick_facts_aug = aug[aug['Dimension_Type'] == 'Quick Facts']\n",
    "job_title_aug = aug[aug['Dimension_Type'] == 'Job Title']\n",
    "company_size_aug = aug[aug['Dimension_Type'] == 'Company Size']\n",
    "industry_aug = aug[aug['Dimension_Type'] == 'Industry']\n",
    "timeserie_aug = aug[aug['Dimension_Type'] == 'Timeseries']"
   ]
  },
  {
   "cell_type": "code",
   "execution_count": 13,
   "metadata": {},
   "outputs": [],
   "source": [
    "quick_facts_july = july[july['Dimension_Type'] == 'Quick Facts']\n",
    "job_title_july = july[july['Dimension_Type'] == 'Job Title']\n",
    "company_size_july = july[july['Dimension_Type'] == 'Company Size']\n",
    "industry_july = july[july['Dimension_Type'] == 'Industry']\n",
    "timeserie_july = july[july['Dimension_Type'] == 'Timeseries']"
   ]
  },
  {
   "cell_type": "code",
   "execution_count": 14,
   "metadata": {},
   "outputs": [],
   "source": [
    "quick_facts_june = june[june['Dimension_Type'] == 'Quick Facts']\n",
    "job_title_june = june[june['Dimension_Type'] == 'Job Title']\n",
    "company_size_june = june[june['Dimension_Type'] == 'Company Size']\n",
    "industry_june = june[june['Dimension_Type'] == 'Industry']\n",
    "timeserie_june = june[june['Dimension_Type'] == 'Timeseries']"
   ]
  },
  {
   "cell_type": "code",
   "execution_count": 15,
   "metadata": {},
   "outputs": [],
   "source": [
    "quick_facts_may = may[may['Dimension_Type'] == 'Quick Facts']\n",
    "job_title_may = may[may['Dimension_Type'] == 'Job Title']\n",
    "company_size_may = may[may['Dimension_Type'] == 'Company Size']\n",
    "industry_may = may[may['Dimension_Type'] == 'Industry']\n",
    "timeserie_may = may[may['Dimension_Type'] == 'Timeseries']"
   ]
  },
  {
   "cell_type": "markdown",
   "metadata": {},
   "source": [
    "#### Now we got the dataset seprated based on Dimension_Type column for each month.<br>\n",
    "#### for all the months combining the dataset of similar kind."
   ]
  },
  {
   "cell_type": "code",
   "execution_count": 16,
   "metadata": {},
   "outputs": [],
   "source": [
    "quick_fact_frames=[quick_facts_sept, quick_facts_aug, quick_facts_july, quick_facts_june, quick_facts_may]\n",
    "job_title_frames=[job_title_sept, job_title_aug, job_title_july, job_title_june, job_title_may]\n",
    "company_size_frames=[company_size_sept, company_size_aug, company_size_july, company_size_june, company_size_may]\n",
    "industry_frames=[industry_sept, industry_aug, industry_july, industry_june, industry_may]\n",
    "timeseries_frames=[timeserie_sept, timeserie_aug, timeserie_july, timeserie_june, timeserie_may]"
   ]
  },
  {
   "cell_type": "code",
   "execution_count": 17,
   "metadata": {},
   "outputs": [],
   "source": [
    "quick_fact=pd.concat(quick_fact_frames)\n",
    "job_title=pd.concat(job_title_frames)\n",
    "company_size=pd.concat(company_size_frames)\n",
    "industry=pd.concat(industry_frames)\n",
    "timeseries=pd.concat(timeseries_frames)"
   ]
  },
  {
   "cell_type": "markdown",
   "metadata": {},
   "source": [
    "Now we have four Dataframes (DF) to deal with. Some details about the dataframes, mostly there name convey much information about them. <br>\n",
    "quick_fact: dataframe gives us some facts.<br>\n",
    "job_title: This DF gives us the job details on the basis of job_title. ex Accountant, Attorney<br>\n",
    "company_size: This DF gives the details based on company size.<br>\n",
    "industry: This gives us details based on industries ex: Accounting & Legal, Arts & Entertainment.<br>\n",
    "timeseries: This shows the dat abased on time series.<br>"
   ]
  },
  {
   "cell_type": "markdown",
   "metadata": {},
   "source": [
    "#### Lets look at the head of all the DF"
   ]
  },
  {
   "cell_type": "code",
   "execution_count": 18,
   "metadata": {},
   "outputs": [
    {
     "data": {
      "text/html": [
       "<div>\n",
       "<style scoped>\n",
       "    .dataframe tbody tr th:only-of-type {\n",
       "        vertical-align: middle;\n",
       "    }\n",
       "\n",
       "    .dataframe tbody tr th {\n",
       "        vertical-align: top;\n",
       "    }\n",
       "\n",
       "    .dataframe thead th {\n",
       "        text-align: right;\n",
       "    }\n",
       "</style>\n",
       "<table border=\"1\" class=\"dataframe\">\n",
       "  <thead>\n",
       "    <tr style=\"text-align: right;\">\n",
       "      <th></th>\n",
       "      <th>Metro</th>\n",
       "      <th>Dimension_Type</th>\n",
       "      <th>Month</th>\n",
       "      <th>Dimension</th>\n",
       "      <th>Measure</th>\n",
       "      <th>Value</th>\n",
       "      <th>YoY</th>\n",
       "    </tr>\n",
       "  </thead>\n",
       "  <tbody>\n",
       "    <tr>\n",
       "      <th>0</th>\n",
       "      <td>National</td>\n",
       "      <td>Quick Facts</td>\n",
       "      <td>2019-09</td>\n",
       "      <td>U.S. Job Openings</td>\n",
       "      <td>U.S. Job Openings</td>\n",
       "      <td>5,960,400</td>\n",
       "      <td>3.5%</td>\n",
       "    </tr>\n",
       "    <tr>\n",
       "      <th>1</th>\n",
       "      <td>National</td>\n",
       "      <td>Quick Facts</td>\n",
       "      <td>2019-09</td>\n",
       "      <td>U.S. Median Pay</td>\n",
       "      <td>U.S. Median Pay</td>\n",
       "      <td>$ 54,179</td>\n",
       "      <td>2.1%</td>\n",
       "    </tr>\n",
       "    <tr>\n",
       "      <th>2</th>\n",
       "      <td>Atlanta</td>\n",
       "      <td>Quick Facts</td>\n",
       "      <td>2019-09</td>\n",
       "      <td>Metro Job Openings</td>\n",
       "      <td>Metro Job Openings</td>\n",
       "      <td>122,889</td>\n",
       "      <td>5.5%</td>\n",
       "    </tr>\n",
       "    <tr>\n",
       "      <th>3</th>\n",
       "      <td>Atlanta</td>\n",
       "      <td>Quick Facts</td>\n",
       "      <td>2019-09</td>\n",
       "      <td>U.S. Job Openings</td>\n",
       "      <td>U.S. Job Openings</td>\n",
       "      <td>5,960,400</td>\n",
       "      <td>3.5%</td>\n",
       "    </tr>\n",
       "    <tr>\n",
       "      <th>4</th>\n",
       "      <td>Atlanta</td>\n",
       "      <td>Quick Facts</td>\n",
       "      <td>2019-09</td>\n",
       "      <td>Metro Median Pay</td>\n",
       "      <td>Metro Median Pay</td>\n",
       "      <td>$ 56,059</td>\n",
       "      <td>3.0%</td>\n",
       "    </tr>\n",
       "  </tbody>\n",
       "</table>\n",
       "</div>"
      ],
      "text/plain": [
       "      Metro Dimension_Type    Month           Dimension             Measure  \\\n",
       "0  National    Quick Facts  2019-09   U.S. Job Openings   U.S. Job Openings   \n",
       "1  National    Quick Facts  2019-09     U.S. Median Pay     U.S. Median Pay   \n",
       "2   Atlanta    Quick Facts  2019-09  Metro Job Openings  Metro Job Openings   \n",
       "3   Atlanta    Quick Facts  2019-09   U.S. Job Openings   U.S. Job Openings   \n",
       "4   Atlanta    Quick Facts  2019-09    Metro Median Pay    Metro Median Pay   \n",
       "\n",
       "       Value   YoY  \n",
       "0  5,960,400  3.5%  \n",
       "1   $ 54,179  2.1%  \n",
       "2    122,889  5.5%  \n",
       "3  5,960,400  3.5%  \n",
       "4   $ 56,059  3.0%  "
      ]
     },
     "execution_count": 18,
     "metadata": {},
     "output_type": "execute_result"
    }
   ],
   "source": [
    "quick_fact.head()"
   ]
  },
  {
   "cell_type": "code",
   "execution_count": 19,
   "metadata": {},
   "outputs": [
    {
     "data": {
      "text/html": [
       "<div>\n",
       "<style scoped>\n",
       "    .dataframe tbody tr th:only-of-type {\n",
       "        vertical-align: middle;\n",
       "    }\n",
       "\n",
       "    .dataframe tbody tr th {\n",
       "        vertical-align: top;\n",
       "    }\n",
       "\n",
       "    .dataframe thead th {\n",
       "        text-align: right;\n",
       "    }\n",
       "</style>\n",
       "<table border=\"1\" class=\"dataframe\">\n",
       "  <thead>\n",
       "    <tr style=\"text-align: right;\">\n",
       "      <th></th>\n",
       "      <th>Metro</th>\n",
       "      <th>Dimension_Type</th>\n",
       "      <th>Month</th>\n",
       "      <th>Dimension</th>\n",
       "      <th>Measure</th>\n",
       "      <th>Value</th>\n",
       "      <th>YoY</th>\n",
       "    </tr>\n",
       "  </thead>\n",
       "  <tbody>\n",
       "    <tr>\n",
       "      <th>42</th>\n",
       "      <td>National</td>\n",
       "      <td>Job Title</td>\n",
       "      <td>2019-09</td>\n",
       "      <td>Accountant</td>\n",
       "      <td>Median Base Pay</td>\n",
       "      <td>$ 57,616</td>\n",
       "      <td>1.3%</td>\n",
       "    </tr>\n",
       "    <tr>\n",
       "      <th>43</th>\n",
       "      <td>National</td>\n",
       "      <td>Job Title</td>\n",
       "      <td>2019-09</td>\n",
       "      <td>Administrative Assistant</td>\n",
       "      <td>Median Base Pay</td>\n",
       "      <td>$ 41,923</td>\n",
       "      <td>1.5%</td>\n",
       "    </tr>\n",
       "    <tr>\n",
       "      <th>44</th>\n",
       "      <td>National</td>\n",
       "      <td>Job Title</td>\n",
       "      <td>2019-09</td>\n",
       "      <td>Attorney</td>\n",
       "      <td>Median Base Pay</td>\n",
       "      <td>$ 99,715</td>\n",
       "      <td>0.8%</td>\n",
       "    </tr>\n",
       "    <tr>\n",
       "      <th>45</th>\n",
       "      <td>National</td>\n",
       "      <td>Job Title</td>\n",
       "      <td>2019-09</td>\n",
       "      <td>Bank Teller</td>\n",
       "      <td>Median Base Pay</td>\n",
       "      <td>$ 32,223</td>\n",
       "      <td>3.3%</td>\n",
       "    </tr>\n",
       "    <tr>\n",
       "      <th>46</th>\n",
       "      <td>National</td>\n",
       "      <td>Job Title</td>\n",
       "      <td>2019-09</td>\n",
       "      <td>Barista</td>\n",
       "      <td>Median Base Pay</td>\n",
       "      <td>$ 25,678</td>\n",
       "      <td>3.1%</td>\n",
       "    </tr>\n",
       "  </tbody>\n",
       "</table>\n",
       "</div>"
      ],
      "text/plain": [
       "       Metro Dimension_Type    Month                 Dimension  \\\n",
       "42  National      Job Title  2019-09                Accountant   \n",
       "43  National      Job Title  2019-09  Administrative Assistant   \n",
       "44  National      Job Title  2019-09                  Attorney   \n",
       "45  National      Job Title  2019-09               Bank Teller   \n",
       "46  National      Job Title  2019-09                   Barista   \n",
       "\n",
       "            Measure     Value   YoY  \n",
       "42  Median Base Pay  $ 57,616  1.3%  \n",
       "43  Median Base Pay  $ 41,923  1.5%  \n",
       "44  Median Base Pay  $ 99,715  0.8%  \n",
       "45  Median Base Pay  $ 32,223  3.3%  \n",
       "46  Median Base Pay  $ 25,678  3.1%  "
      ]
     },
     "execution_count": 19,
     "metadata": {},
     "output_type": "execute_result"
    }
   ],
   "source": [
    "job_title.head()"
   ]
  },
  {
   "cell_type": "code",
   "execution_count": 20,
   "metadata": {},
   "outputs": [
    {
     "data": {
      "text/html": [
       "<div>\n",
       "<style scoped>\n",
       "    .dataframe tbody tr th:only-of-type {\n",
       "        vertical-align: middle;\n",
       "    }\n",
       "\n",
       "    .dataframe tbody tr th {\n",
       "        vertical-align: top;\n",
       "    }\n",
       "\n",
       "    .dataframe thead th {\n",
       "        text-align: right;\n",
       "    }\n",
       "</style>\n",
       "<table border=\"1\" class=\"dataframe\">\n",
       "  <thead>\n",
       "    <tr style=\"text-align: right;\">\n",
       "      <th></th>\n",
       "      <th>Metro</th>\n",
       "      <th>Dimension_Type</th>\n",
       "      <th>Month</th>\n",
       "      <th>Dimension</th>\n",
       "      <th>Measure</th>\n",
       "      <th>Value</th>\n",
       "      <th>YoY</th>\n",
       "    </tr>\n",
       "  </thead>\n",
       "  <tbody>\n",
       "    <tr>\n",
       "      <th>966</th>\n",
       "      <td>National</td>\n",
       "      <td>Company Size</td>\n",
       "      <td>2019-09</td>\n",
       "      <td>1001-5000</td>\n",
       "      <td>Median Base Pay</td>\n",
       "      <td>53898</td>\n",
       "      <td>NaN</td>\n",
       "    </tr>\n",
       "    <tr>\n",
       "      <th>967</th>\n",
       "      <td>National</td>\n",
       "      <td>Company Size</td>\n",
       "      <td>2019-09</td>\n",
       "      <td>&lt;51</td>\n",
       "      <td>Median Base Pay</td>\n",
       "      <td>49080</td>\n",
       "      <td>NaN</td>\n",
       "    </tr>\n",
       "    <tr>\n",
       "      <th>968</th>\n",
       "      <td>National</td>\n",
       "      <td>Company Size</td>\n",
       "      <td>2019-09</td>\n",
       "      <td>201-500</td>\n",
       "      <td>Median Base Pay</td>\n",
       "      <td>52092</td>\n",
       "      <td>NaN</td>\n",
       "    </tr>\n",
       "    <tr>\n",
       "      <th>969</th>\n",
       "      <td>National</td>\n",
       "      <td>Company Size</td>\n",
       "      <td>2019-09</td>\n",
       "      <td>5000+</td>\n",
       "      <td>Median Base Pay</td>\n",
       "      <td>54804</td>\n",
       "      <td>NaN</td>\n",
       "    </tr>\n",
       "    <tr>\n",
       "      <th>970</th>\n",
       "      <td>National</td>\n",
       "      <td>Company Size</td>\n",
       "      <td>2019-09</td>\n",
       "      <td>501-1000</td>\n",
       "      <td>Median Base Pay</td>\n",
       "      <td>52766</td>\n",
       "      <td>NaN</td>\n",
       "    </tr>\n",
       "  </tbody>\n",
       "</table>\n",
       "</div>"
      ],
      "text/plain": [
       "        Metro Dimension_Type    Month  Dimension          Measure  Value  YoY\n",
       "966  National   Company Size  2019-09  1001-5000  Median Base Pay  53898  NaN\n",
       "967  National   Company Size  2019-09        <51  Median Base Pay  49080  NaN\n",
       "968  National   Company Size  2019-09    201-500  Median Base Pay  52092  NaN\n",
       "969  National   Company Size  2019-09      5000+  Median Base Pay  54804  NaN\n",
       "970  National   Company Size  2019-09   501-1000  Median Base Pay  52766  NaN"
      ]
     },
     "execution_count": 20,
     "metadata": {},
     "output_type": "execute_result"
    }
   ],
   "source": [
    "company_size.head()"
   ]
  },
  {
   "cell_type": "code",
   "execution_count": 21,
   "metadata": {},
   "outputs": [
    {
     "data": {
      "text/html": [
       "<div>\n",
       "<style scoped>\n",
       "    .dataframe tbody tr th:only-of-type {\n",
       "        vertical-align: middle;\n",
       "    }\n",
       "\n",
       "    .dataframe tbody tr th {\n",
       "        vertical-align: top;\n",
       "    }\n",
       "\n",
       "    .dataframe thead th {\n",
       "        text-align: right;\n",
       "    }\n",
       "</style>\n",
       "<table border=\"1\" class=\"dataframe\">\n",
       "  <thead>\n",
       "    <tr style=\"text-align: right;\">\n",
       "      <th></th>\n",
       "      <th>Metro</th>\n",
       "      <th>Dimension_Type</th>\n",
       "      <th>Month</th>\n",
       "      <th>Dimension</th>\n",
       "      <th>Measure</th>\n",
       "      <th>Value</th>\n",
       "      <th>YoY</th>\n",
       "    </tr>\n",
       "  </thead>\n",
       "  <tbody>\n",
       "    <tr>\n",
       "      <th>1032</th>\n",
       "      <td>National</td>\n",
       "      <td>Industry</td>\n",
       "      <td>2019-09</td>\n",
       "      <td>Accounting &amp; Legal</td>\n",
       "      <td>Median Base Pay</td>\n",
       "      <td>54340</td>\n",
       "      <td>NaN</td>\n",
       "    </tr>\n",
       "    <tr>\n",
       "      <th>1033</th>\n",
       "      <td>National</td>\n",
       "      <td>Industry</td>\n",
       "      <td>2019-09</td>\n",
       "      <td>Aerospace &amp; Defense</td>\n",
       "      <td>Median Base Pay</td>\n",
       "      <td>56086</td>\n",
       "      <td>NaN</td>\n",
       "    </tr>\n",
       "    <tr>\n",
       "      <th>1034</th>\n",
       "      <td>National</td>\n",
       "      <td>Industry</td>\n",
       "      <td>2019-09</td>\n",
       "      <td>Architecture &amp; Civil Engineering</td>\n",
       "      <td>Median Base Pay</td>\n",
       "      <td>54549</td>\n",
       "      <td>NaN</td>\n",
       "    </tr>\n",
       "    <tr>\n",
       "      <th>1035</th>\n",
       "      <td>National</td>\n",
       "      <td>Industry</td>\n",
       "      <td>2019-09</td>\n",
       "      <td>Arts &amp; Entertainment</td>\n",
       "      <td>Median Base Pay</td>\n",
       "      <td>47965</td>\n",
       "      <td>NaN</td>\n",
       "    </tr>\n",
       "    <tr>\n",
       "      <th>1036</th>\n",
       "      <td>National</td>\n",
       "      <td>Industry</td>\n",
       "      <td>2019-09</td>\n",
       "      <td>Automotive</td>\n",
       "      <td>Median Base Pay</td>\n",
       "      <td>48455</td>\n",
       "      <td>NaN</td>\n",
       "    </tr>\n",
       "  </tbody>\n",
       "</table>\n",
       "</div>"
      ],
      "text/plain": [
       "         Metro Dimension_Type    Month                         Dimension  \\\n",
       "1032  National       Industry  2019-09                Accounting & Legal   \n",
       "1033  National       Industry  2019-09               Aerospace & Defense   \n",
       "1034  National       Industry  2019-09  Architecture & Civil Engineering   \n",
       "1035  National       Industry  2019-09              Arts & Entertainment   \n",
       "1036  National       Industry  2019-09                        Automotive   \n",
       "\n",
       "              Measure  Value  YoY  \n",
       "1032  Median Base Pay  54340  NaN  \n",
       "1033  Median Base Pay  56086  NaN  \n",
       "1034  Median Base Pay  54549  NaN  \n",
       "1035  Median Base Pay  47965  NaN  \n",
       "1036  Median Base Pay  48455  NaN  "
      ]
     },
     "execution_count": 21,
     "metadata": {},
     "output_type": "execute_result"
    }
   ],
   "source": [
    "industry.head()"
   ]
  },
  {
   "cell_type": "code",
   "execution_count": 22,
   "metadata": {},
   "outputs": [
    {
     "data": {
      "text/html": [
       "<div>\n",
       "<style scoped>\n",
       "    .dataframe tbody tr th:only-of-type {\n",
       "        vertical-align: middle;\n",
       "    }\n",
       "\n",
       "    .dataframe tbody tr th {\n",
       "        vertical-align: top;\n",
       "    }\n",
       "\n",
       "    .dataframe thead th {\n",
       "        text-align: right;\n",
       "    }\n",
       "</style>\n",
       "<table border=\"1\" class=\"dataframe\">\n",
       "  <thead>\n",
       "    <tr style=\"text-align: right;\">\n",
       "      <th></th>\n",
       "      <th>Metro</th>\n",
       "      <th>Dimension_Type</th>\n",
       "      <th>Month</th>\n",
       "      <th>Dimension</th>\n",
       "      <th>Measure</th>\n",
       "      <th>Value</th>\n",
       "      <th>YoY</th>\n",
       "    </tr>\n",
       "  </thead>\n",
       "  <tbody>\n",
       "    <tr>\n",
       "      <th>1439</th>\n",
       "      <td>U.S.</td>\n",
       "      <td>Timeseries</td>\n",
       "      <td>2019-09</td>\n",
       "      <td>Metro Median Base Pay</td>\n",
       "      <td>Median Base Pay</td>\n",
       "      <td>54179.3</td>\n",
       "      <td>NaN</td>\n",
       "    </tr>\n",
       "    <tr>\n",
       "      <th>1440</th>\n",
       "      <td>U.S.</td>\n",
       "      <td>Timeseries</td>\n",
       "      <td>2019-08</td>\n",
       "      <td>Metro Median Base Pay</td>\n",
       "      <td>Median Base Pay</td>\n",
       "      <td>53949.3</td>\n",
       "      <td>NaN</td>\n",
       "    </tr>\n",
       "    <tr>\n",
       "      <th>1441</th>\n",
       "      <td>U.S.</td>\n",
       "      <td>Timeseries</td>\n",
       "      <td>2019-07</td>\n",
       "      <td>Metro Median Base Pay</td>\n",
       "      <td>Median Base Pay</td>\n",
       "      <td>53802</td>\n",
       "      <td>NaN</td>\n",
       "    </tr>\n",
       "    <tr>\n",
       "      <th>1442</th>\n",
       "      <td>U.S.</td>\n",
       "      <td>Timeseries</td>\n",
       "      <td>2019-06</td>\n",
       "      <td>Metro Median Base Pay</td>\n",
       "      <td>Median Base Pay</td>\n",
       "      <td>53581.3</td>\n",
       "      <td>NaN</td>\n",
       "    </tr>\n",
       "    <tr>\n",
       "      <th>1443</th>\n",
       "      <td>U.S.</td>\n",
       "      <td>Timeseries</td>\n",
       "      <td>2019-05</td>\n",
       "      <td>Metro Median Base Pay</td>\n",
       "      <td>Median Base Pay</td>\n",
       "      <td>53457.3</td>\n",
       "      <td>NaN</td>\n",
       "    </tr>\n",
       "  </tbody>\n",
       "</table>\n",
       "</div>"
      ],
      "text/plain": [
       "     Metro Dimension_Type    Month              Dimension          Measure  \\\n",
       "1439  U.S.     Timeseries  2019-09  Metro Median Base Pay  Median Base Pay   \n",
       "1440  U.S.     Timeseries  2019-08  Metro Median Base Pay  Median Base Pay   \n",
       "1441  U.S.     Timeseries  2019-07  Metro Median Base Pay  Median Base Pay   \n",
       "1442  U.S.     Timeseries  2019-06  Metro Median Base Pay  Median Base Pay   \n",
       "1443  U.S.     Timeseries  2019-05  Metro Median Base Pay  Median Base Pay   \n",
       "\n",
       "        Value  YoY  \n",
       "1439  54179.3  NaN  \n",
       "1440  53949.3  NaN  \n",
       "1441    53802  NaN  \n",
       "1442  53581.3  NaN  \n",
       "1443  53457.3  NaN  "
      ]
     },
     "execution_count": 22,
     "metadata": {},
     "output_type": "execute_result"
    }
   ],
   "source": [
    "timeseries.head()"
   ]
  },
  {
   "cell_type": "markdown",
   "metadata": {},
   "source": [
    "## For our Hypothesis we will be working on 'job_title' and 'industry' DataFrames."
   ]
  },
  {
   "cell_type": "markdown",
   "metadata": {},
   "source": [
    "First check for null values in both of our dataframes."
   ]
  },
  {
   "cell_type": "code",
   "execution_count": 23,
   "metadata": {},
   "outputs": [
    {
     "data": {
      "text/plain": [
       "False"
      ]
     },
     "execution_count": 23,
     "metadata": {},
     "output_type": "execute_result"
    }
   ],
   "source": [
    "job_title.isnull().values.any()"
   ]
  },
  {
   "cell_type": "markdown",
   "metadata": {},
   "source": [
    "We have some null values in industry dataframe."
   ]
  },
  {
   "cell_type": "code",
   "execution_count": 24,
   "metadata": {},
   "outputs": [
    {
     "data": {
      "text/plain": [
       "True"
      ]
     },
     "execution_count": 24,
     "metadata": {},
     "output_type": "execute_result"
    }
   ],
   "source": [
    "industry.isnull().values.any()"
   ]
  },
  {
   "cell_type": "code",
   "execution_count": 25,
   "metadata": {},
   "outputs": [
    {
     "data": {
      "text/html": [
       "<div>\n",
       "<style scoped>\n",
       "    .dataframe tbody tr th:only-of-type {\n",
       "        vertical-align: middle;\n",
       "    }\n",
       "\n",
       "    .dataframe tbody tr th {\n",
       "        vertical-align: top;\n",
       "    }\n",
       "\n",
       "    .dataframe thead th {\n",
       "        text-align: right;\n",
       "    }\n",
       "</style>\n",
       "<table border=\"1\" class=\"dataframe\">\n",
       "  <thead>\n",
       "    <tr style=\"text-align: right;\">\n",
       "      <th></th>\n",
       "      <th>Metro</th>\n",
       "      <th>Dimension_Type</th>\n",
       "      <th>Month</th>\n",
       "      <th>Dimension</th>\n",
       "      <th>Measure</th>\n",
       "      <th>Value</th>\n",
       "      <th>YoY</th>\n",
       "    </tr>\n",
       "  </thead>\n",
       "  <tbody>\n",
       "    <tr>\n",
       "      <th>1032</th>\n",
       "      <td>National</td>\n",
       "      <td>Industry</td>\n",
       "      <td>2019-09</td>\n",
       "      <td>Accounting &amp; Legal</td>\n",
       "      <td>Median Base Pay</td>\n",
       "      <td>54340</td>\n",
       "      <td>NaN</td>\n",
       "    </tr>\n",
       "    <tr>\n",
       "      <th>1033</th>\n",
       "      <td>National</td>\n",
       "      <td>Industry</td>\n",
       "      <td>2019-09</td>\n",
       "      <td>Aerospace &amp; Defense</td>\n",
       "      <td>Median Base Pay</td>\n",
       "      <td>56086</td>\n",
       "      <td>NaN</td>\n",
       "    </tr>\n",
       "    <tr>\n",
       "      <th>1034</th>\n",
       "      <td>National</td>\n",
       "      <td>Industry</td>\n",
       "      <td>2019-09</td>\n",
       "      <td>Architecture &amp; Civil Engineering</td>\n",
       "      <td>Median Base Pay</td>\n",
       "      <td>54549</td>\n",
       "      <td>NaN</td>\n",
       "    </tr>\n",
       "    <tr>\n",
       "      <th>1035</th>\n",
       "      <td>National</td>\n",
       "      <td>Industry</td>\n",
       "      <td>2019-09</td>\n",
       "      <td>Arts &amp; Entertainment</td>\n",
       "      <td>Median Base Pay</td>\n",
       "      <td>47965</td>\n",
       "      <td>NaN</td>\n",
       "    </tr>\n",
       "    <tr>\n",
       "      <th>1036</th>\n",
       "      <td>National</td>\n",
       "      <td>Industry</td>\n",
       "      <td>2019-09</td>\n",
       "      <td>Automotive</td>\n",
       "      <td>Median Base Pay</td>\n",
       "      <td>48455</td>\n",
       "      <td>NaN</td>\n",
       "    </tr>\n",
       "  </tbody>\n",
       "</table>\n",
       "</div>"
      ],
      "text/plain": [
       "         Metro Dimension_Type    Month                         Dimension  \\\n",
       "1032  National       Industry  2019-09                Accounting & Legal   \n",
       "1033  National       Industry  2019-09               Aerospace & Defense   \n",
       "1034  National       Industry  2019-09  Architecture & Civil Engineering   \n",
       "1035  National       Industry  2019-09              Arts & Entertainment   \n",
       "1036  National       Industry  2019-09                        Automotive   \n",
       "\n",
       "              Measure  Value  YoY  \n",
       "1032  Median Base Pay  54340  NaN  \n",
       "1033  Median Base Pay  56086  NaN  \n",
       "1034  Median Base Pay  54549  NaN  \n",
       "1035  Median Base Pay  47965  NaN  \n",
       "1036  Median Base Pay  48455  NaN  "
      ]
     },
     "execution_count": 25,
     "metadata": {},
     "output_type": "execute_result"
    }
   ],
   "source": [
    "industry.head()"
   ]
  },
  {
   "cell_type": "markdown",
   "metadata": {},
   "source": [
    "YOY column in industry DF has null value. Now we will check number of null values ie 2035 null values"
   ]
  },
  {
   "cell_type": "code",
   "execution_count": 26,
   "metadata": {
    "scrolled": true
   },
   "outputs": [
    {
     "name": "stdout",
     "output_type": "stream",
     "text": [
      " NaN         2035\n",
      "-0.247504       1\n",
      "-0.396993       1\n",
      "-0.199203       1\n",
      " 0.339764       1\n",
      " 0.127346       1\n",
      " 0.179114       1\n",
      "-0.123383       1\n",
      " 0.180952       1\n",
      " 0.175499       1\n",
      "-0.490584       1\n",
      "-0.007946       1\n",
      " 0.105332       1\n",
      "-0.052016       1\n",
      " 0.291594       1\n",
      " 0.218427       1\n",
      " 0.059307       1\n",
      "-0.186958       1\n",
      " 0.067601       1\n",
      "-0.027332       1\n",
      "-0.399725       1\n",
      "-0.128314       1\n",
      "-0.212307       1\n",
      "-0.055031       1\n",
      "-0.117502       1\n",
      " 0.099297       1\n",
      "-0.105784       1\n",
      " 0.037778       1\n",
      "-0.224294       1\n",
      "-0.082209       1\n",
      "             ... \n",
      " 0.015766       1\n",
      " 0.308960       1\n",
      " 0.145981       1\n",
      " 0.138405       1\n",
      " 0.248927       1\n",
      "-0.149354       1\n",
      "-0.268680       1\n",
      " 0.328522       1\n",
      " 0.029640       1\n",
      "-0.054110       1\n",
      " 0.449378       1\n",
      " 0.475532       1\n",
      " 0.203603       1\n",
      "-0.033959       1\n",
      " 0.071966       1\n",
      " 0.095260       1\n",
      "-0.146207       1\n",
      " 0.339895       1\n",
      " 0.008421       1\n",
      "-0.073153       1\n",
      "-0.240367       1\n",
      "-0.109275       1\n",
      " 0.244751       1\n",
      "-0.107143       1\n",
      "-0.117153       1\n",
      "-0.083427       1\n",
      "-0.419472       1\n",
      "-0.066056       1\n",
      " 0.153827       1\n",
      "-0.214305       1\n",
      "Name: YoY, Length: 2091, dtype: int64\n"
     ]
    }
   ],
   "source": [
    "print(industry['YoY'].value_counts(dropna=False))"
   ]
  },
  {
   "cell_type": "code",
   "execution_count": 27,
   "metadata": {
    "scrolled": true
   },
   "outputs": [
    {
     "data": {
      "text/plain": [
       "array(['Median Base Pay', 'Job Openings'], dtype=object)"
      ]
     },
     "execution_count": 27,
     "metadata": {},
     "output_type": "execute_result"
    }
   ],
   "source": [
    "industry['Measure'].unique()"
   ]
  },
  {
   "cell_type": "code",
   "execution_count": 28,
   "metadata": {},
   "outputs": [
    {
     "name": "stdout",
     "output_type": "stream",
     "text": [
      "False    2090\n",
      "True     2035\n",
      "Name: Measure, dtype: int64\n"
     ]
    }
   ],
   "source": [
    "print((industry['Measure']=='Median Base Pay').value_counts(dropna=False))"
   ]
  },
  {
   "cell_type": "markdown",
   "metadata": {},
   "source": [
    "Total entries of Measure='Median Base Pay' is same as number of null values ie 2035.                                           \n",
    "From this we can say that for all 2035 value where Measure == 'Median Base Pay', the YOY column in null.<br>\n",
    "For our analysis we wont be needing the YOY column. So no need to handel these NaN value.\n"
   ]
  },
  {
   "cell_type": "code",
   "execution_count": 29,
   "metadata": {},
   "outputs": [
    {
     "data": {
      "text/html": [
       "<div>\n",
       "<style scoped>\n",
       "    .dataframe tbody tr th:only-of-type {\n",
       "        vertical-align: middle;\n",
       "    }\n",
       "\n",
       "    .dataframe tbody tr th {\n",
       "        vertical-align: top;\n",
       "    }\n",
       "\n",
       "    .dataframe thead th {\n",
       "        text-align: right;\n",
       "    }\n",
       "</style>\n",
       "<table border=\"1\" class=\"dataframe\">\n",
       "  <thead>\n",
       "    <tr style=\"text-align: right;\">\n",
       "      <th></th>\n",
       "      <th>Metro</th>\n",
       "      <th>Dimension_Type</th>\n",
       "      <th>Month</th>\n",
       "      <th>Dimension</th>\n",
       "      <th>Measure</th>\n",
       "      <th>Value</th>\n",
       "      <th>YoY</th>\n",
       "    </tr>\n",
       "  </thead>\n",
       "  <tbody>\n",
       "    <tr>\n",
       "      <th>1032</th>\n",
       "      <td>National</td>\n",
       "      <td>Industry</td>\n",
       "      <td>2019-09</td>\n",
       "      <td>Accounting &amp; Legal</td>\n",
       "      <td>Median Base Pay</td>\n",
       "      <td>54340</td>\n",
       "      <td>NaN</td>\n",
       "    </tr>\n",
       "    <tr>\n",
       "      <th>1033</th>\n",
       "      <td>National</td>\n",
       "      <td>Industry</td>\n",
       "      <td>2019-09</td>\n",
       "      <td>Aerospace &amp; Defense</td>\n",
       "      <td>Median Base Pay</td>\n",
       "      <td>56086</td>\n",
       "      <td>NaN</td>\n",
       "    </tr>\n",
       "    <tr>\n",
       "      <th>1034</th>\n",
       "      <td>National</td>\n",
       "      <td>Industry</td>\n",
       "      <td>2019-09</td>\n",
       "      <td>Architecture &amp; Civil Engineering</td>\n",
       "      <td>Median Base Pay</td>\n",
       "      <td>54549</td>\n",
       "      <td>NaN</td>\n",
       "    </tr>\n",
       "    <tr>\n",
       "      <th>1035</th>\n",
       "      <td>National</td>\n",
       "      <td>Industry</td>\n",
       "      <td>2019-09</td>\n",
       "      <td>Arts &amp; Entertainment</td>\n",
       "      <td>Median Base Pay</td>\n",
       "      <td>47965</td>\n",
       "      <td>NaN</td>\n",
       "    </tr>\n",
       "    <tr>\n",
       "      <th>1036</th>\n",
       "      <td>National</td>\n",
       "      <td>Industry</td>\n",
       "      <td>2019-09</td>\n",
       "      <td>Automotive</td>\n",
       "      <td>Median Base Pay</td>\n",
       "      <td>48455</td>\n",
       "      <td>NaN</td>\n",
       "    </tr>\n",
       "  </tbody>\n",
       "</table>\n",
       "</div>"
      ],
      "text/plain": [
       "         Metro Dimension_Type    Month                         Dimension  \\\n",
       "1032  National       Industry  2019-09                Accounting & Legal   \n",
       "1033  National       Industry  2019-09               Aerospace & Defense   \n",
       "1034  National       Industry  2019-09  Architecture & Civil Engineering   \n",
       "1035  National       Industry  2019-09              Arts & Entertainment   \n",
       "1036  National       Industry  2019-09                        Automotive   \n",
       "\n",
       "              Measure  Value  YoY  \n",
       "1032  Median Base Pay  54340  NaN  \n",
       "1033  Median Base Pay  56086  NaN  \n",
       "1034  Median Base Pay  54549  NaN  \n",
       "1035  Median Base Pay  47965  NaN  \n",
       "1036  Median Base Pay  48455  NaN  "
      ]
     },
     "execution_count": 29,
     "metadata": {},
     "output_type": "execute_result"
    }
   ],
   "source": [
    "industry.head()"
   ]
  },
  {
   "cell_type": "markdown",
   "metadata": {},
   "source": [
    "Checking Type and describe of industry DF"
   ]
  },
  {
   "cell_type": "code",
   "execution_count": 30,
   "metadata": {},
   "outputs": [
    {
     "data": {
      "text/html": [
       "<div>\n",
       "<style scoped>\n",
       "    .dataframe tbody tr th:only-of-type {\n",
       "        vertical-align: middle;\n",
       "    }\n",
       "\n",
       "    .dataframe tbody tr th {\n",
       "        vertical-align: top;\n",
       "    }\n",
       "\n",
       "    .dataframe thead th {\n",
       "        text-align: right;\n",
       "    }\n",
       "</style>\n",
       "<table border=\"1\" class=\"dataframe\">\n",
       "  <thead>\n",
       "    <tr style=\"text-align: right;\">\n",
       "      <th></th>\n",
       "      <th>Metro</th>\n",
       "      <th>Dimension_Type</th>\n",
       "      <th>Month</th>\n",
       "      <th>Dimension</th>\n",
       "      <th>Measure</th>\n",
       "      <th>Value</th>\n",
       "      <th>YoY</th>\n",
       "    </tr>\n",
       "  </thead>\n",
       "  <tbody>\n",
       "    <tr>\n",
       "      <th>count</th>\n",
       "      <td>4125</td>\n",
       "      <td>4125</td>\n",
       "      <td>4125</td>\n",
       "      <td>4125</td>\n",
       "      <td>4125</td>\n",
       "      <td>4125</td>\n",
       "      <td>2090.000000</td>\n",
       "    </tr>\n",
       "    <tr>\n",
       "      <th>unique</th>\n",
       "      <td>11</td>\n",
       "      <td>1</td>\n",
       "      <td>5</td>\n",
       "      <td>38</td>\n",
       "      <td>2</td>\n",
       "      <td>3740</td>\n",
       "      <td>2090.000000</td>\n",
       "    </tr>\n",
       "    <tr>\n",
       "      <th>top</th>\n",
       "      <td>San Francisco</td>\n",
       "      <td>Industry</td>\n",
       "      <td>2019-08</td>\n",
       "      <td>Construction</td>\n",
       "      <td>Job Openings</td>\n",
       "      <td>1028</td>\n",
       "      <td>0.013281</td>\n",
       "    </tr>\n",
       "    <tr>\n",
       "      <th>freq</th>\n",
       "      <td>375</td>\n",
       "      <td>4125</td>\n",
       "      <td>825</td>\n",
       "      <td>110</td>\n",
       "      <td>2090</td>\n",
       "      <td>5</td>\n",
       "      <td>1.000000</td>\n",
       "    </tr>\n",
       "  </tbody>\n",
       "</table>\n",
       "</div>"
      ],
      "text/plain": [
       "                Metro Dimension_Type    Month     Dimension       Measure  \\\n",
       "count            4125           4125     4125          4125          4125   \n",
       "unique             11              1        5            38             2   \n",
       "top     San Francisco       Industry  2019-08  Construction  Job Openings   \n",
       "freq              375           4125      825           110          2090   \n",
       "\n",
       "        Value          YoY  \n",
       "count    4125  2090.000000  \n",
       "unique   3740  2090.000000  \n",
       "top      1028     0.013281  \n",
       "freq        5     1.000000  "
      ]
     },
     "execution_count": 30,
     "metadata": {},
     "output_type": "execute_result"
    }
   ],
   "source": [
    "industry.describe()"
   ]
  },
  {
   "cell_type": "code",
   "execution_count": 31,
   "metadata": {},
   "outputs": [
    {
     "data": {
      "text/plain": [
       "Metro             object\n",
       "Dimension_Type    object\n",
       "Month             object\n",
       "Dimension         object\n",
       "Measure           object\n",
       "Value             object\n",
       "YoY               object\n",
       "dtype: object"
      ]
     },
     "execution_count": 31,
     "metadata": {},
     "output_type": "execute_result"
    }
   ],
   "source": [
    "industry.dtypes"
   ]
  },
  {
   "cell_type": "markdown",
   "metadata": {},
   "source": [
    "Changing Month column type to datetime."
   ]
  },
  {
   "cell_type": "code",
   "execution_count": 32,
   "metadata": {},
   "outputs": [],
   "source": [
    "industry['Month']=industry['Month'].astype('datetime64[ns]')"
   ]
  },
  {
   "cell_type": "code",
   "execution_count": 33,
   "metadata": {},
   "outputs": [
    {
     "data": {
      "text/html": [
       "<div>\n",
       "<style scoped>\n",
       "    .dataframe tbody tr th:only-of-type {\n",
       "        vertical-align: middle;\n",
       "    }\n",
       "\n",
       "    .dataframe tbody tr th {\n",
       "        vertical-align: top;\n",
       "    }\n",
       "\n",
       "    .dataframe thead th {\n",
       "        text-align: right;\n",
       "    }\n",
       "</style>\n",
       "<table border=\"1\" class=\"dataframe\">\n",
       "  <thead>\n",
       "    <tr style=\"text-align: right;\">\n",
       "      <th></th>\n",
       "      <th>Metro</th>\n",
       "      <th>Dimension_Type</th>\n",
       "      <th>Month</th>\n",
       "      <th>Dimension</th>\n",
       "      <th>Measure</th>\n",
       "      <th>Value</th>\n",
       "      <th>YoY</th>\n",
       "    </tr>\n",
       "  </thead>\n",
       "  <tbody>\n",
       "    <tr>\n",
       "      <th>1032</th>\n",
       "      <td>National</td>\n",
       "      <td>Industry</td>\n",
       "      <td>2019-09-01</td>\n",
       "      <td>Accounting &amp; Legal</td>\n",
       "      <td>Median Base Pay</td>\n",
       "      <td>54340</td>\n",
       "      <td>NaN</td>\n",
       "    </tr>\n",
       "    <tr>\n",
       "      <th>1033</th>\n",
       "      <td>National</td>\n",
       "      <td>Industry</td>\n",
       "      <td>2019-09-01</td>\n",
       "      <td>Aerospace &amp; Defense</td>\n",
       "      <td>Median Base Pay</td>\n",
       "      <td>56086</td>\n",
       "      <td>NaN</td>\n",
       "    </tr>\n",
       "    <tr>\n",
       "      <th>1034</th>\n",
       "      <td>National</td>\n",
       "      <td>Industry</td>\n",
       "      <td>2019-09-01</td>\n",
       "      <td>Architecture &amp; Civil Engineering</td>\n",
       "      <td>Median Base Pay</td>\n",
       "      <td>54549</td>\n",
       "      <td>NaN</td>\n",
       "    </tr>\n",
       "    <tr>\n",
       "      <th>1035</th>\n",
       "      <td>National</td>\n",
       "      <td>Industry</td>\n",
       "      <td>2019-09-01</td>\n",
       "      <td>Arts &amp; Entertainment</td>\n",
       "      <td>Median Base Pay</td>\n",
       "      <td>47965</td>\n",
       "      <td>NaN</td>\n",
       "    </tr>\n",
       "    <tr>\n",
       "      <th>1036</th>\n",
       "      <td>National</td>\n",
       "      <td>Industry</td>\n",
       "      <td>2019-09-01</td>\n",
       "      <td>Automotive</td>\n",
       "      <td>Median Base Pay</td>\n",
       "      <td>48455</td>\n",
       "      <td>NaN</td>\n",
       "    </tr>\n",
       "  </tbody>\n",
       "</table>\n",
       "</div>"
      ],
      "text/plain": [
       "         Metro Dimension_Type      Month                         Dimension  \\\n",
       "1032  National       Industry 2019-09-01                Accounting & Legal   \n",
       "1033  National       Industry 2019-09-01               Aerospace & Defense   \n",
       "1034  National       Industry 2019-09-01  Architecture & Civil Engineering   \n",
       "1035  National       Industry 2019-09-01              Arts & Entertainment   \n",
       "1036  National       Industry 2019-09-01                        Automotive   \n",
       "\n",
       "              Measure  Value  YoY  \n",
       "1032  Median Base Pay  54340  NaN  \n",
       "1033  Median Base Pay  56086  NaN  \n",
       "1034  Median Base Pay  54549  NaN  \n",
       "1035  Median Base Pay  47965  NaN  \n",
       "1036  Median Base Pay  48455  NaN  "
      ]
     },
     "execution_count": 33,
     "metadata": {},
     "output_type": "execute_result"
    }
   ],
   "source": [
    "industry.head()"
   ]
  },
  {
   "cell_type": "code",
   "execution_count": 34,
   "metadata": {},
   "outputs": [
    {
     "data": {
      "text/plain": [
       "Metro                     object\n",
       "Dimension_Type            object\n",
       "Month             datetime64[ns]\n",
       "Dimension                 object\n",
       "Measure                   object\n",
       "Value                     object\n",
       "YoY                       object\n",
       "dtype: object"
      ]
     },
     "execution_count": 34,
     "metadata": {},
     "output_type": "execute_result"
    }
   ],
   "source": [
    "industry.dtypes"
   ]
  },
  {
   "cell_type": "markdown",
   "metadata": {},
   "source": [
    "Checking for job_title DF"
   ]
  },
  {
   "cell_type": "code",
   "execution_count": 35,
   "metadata": {},
   "outputs": [
    {
     "data": {
      "text/html": [
       "<div>\n",
       "<style scoped>\n",
       "    .dataframe tbody tr th:only-of-type {\n",
       "        vertical-align: middle;\n",
       "    }\n",
       "\n",
       "    .dataframe tbody tr th {\n",
       "        vertical-align: top;\n",
       "    }\n",
       "\n",
       "    .dataframe thead th {\n",
       "        text-align: right;\n",
       "    }\n",
       "</style>\n",
       "<table border=\"1\" class=\"dataframe\">\n",
       "  <thead>\n",
       "    <tr style=\"text-align: right;\">\n",
       "      <th></th>\n",
       "      <th>Metro</th>\n",
       "      <th>Dimension_Type</th>\n",
       "      <th>Month</th>\n",
       "      <th>Dimension</th>\n",
       "      <th>Measure</th>\n",
       "      <th>Value</th>\n",
       "      <th>YoY</th>\n",
       "    </tr>\n",
       "  </thead>\n",
       "  <tbody>\n",
       "    <tr>\n",
       "      <th>42</th>\n",
       "      <td>National</td>\n",
       "      <td>Job Title</td>\n",
       "      <td>2019-09</td>\n",
       "      <td>Accountant</td>\n",
       "      <td>Median Base Pay</td>\n",
       "      <td>$ 57,616</td>\n",
       "      <td>1.3%</td>\n",
       "    </tr>\n",
       "    <tr>\n",
       "      <th>43</th>\n",
       "      <td>National</td>\n",
       "      <td>Job Title</td>\n",
       "      <td>2019-09</td>\n",
       "      <td>Administrative Assistant</td>\n",
       "      <td>Median Base Pay</td>\n",
       "      <td>$ 41,923</td>\n",
       "      <td>1.5%</td>\n",
       "    </tr>\n",
       "    <tr>\n",
       "      <th>44</th>\n",
       "      <td>National</td>\n",
       "      <td>Job Title</td>\n",
       "      <td>2019-09</td>\n",
       "      <td>Attorney</td>\n",
       "      <td>Median Base Pay</td>\n",
       "      <td>$ 99,715</td>\n",
       "      <td>0.8%</td>\n",
       "    </tr>\n",
       "    <tr>\n",
       "      <th>45</th>\n",
       "      <td>National</td>\n",
       "      <td>Job Title</td>\n",
       "      <td>2019-09</td>\n",
       "      <td>Bank Teller</td>\n",
       "      <td>Median Base Pay</td>\n",
       "      <td>$ 32,223</td>\n",
       "      <td>3.3%</td>\n",
       "    </tr>\n",
       "    <tr>\n",
       "      <th>46</th>\n",
       "      <td>National</td>\n",
       "      <td>Job Title</td>\n",
       "      <td>2019-09</td>\n",
       "      <td>Barista</td>\n",
       "      <td>Median Base Pay</td>\n",
       "      <td>$ 25,678</td>\n",
       "      <td>3.1%</td>\n",
       "    </tr>\n",
       "  </tbody>\n",
       "</table>\n",
       "</div>"
      ],
      "text/plain": [
       "       Metro Dimension_Type    Month                 Dimension  \\\n",
       "42  National      Job Title  2019-09                Accountant   \n",
       "43  National      Job Title  2019-09  Administrative Assistant   \n",
       "44  National      Job Title  2019-09                  Attorney   \n",
       "45  National      Job Title  2019-09               Bank Teller   \n",
       "46  National      Job Title  2019-09                   Barista   \n",
       "\n",
       "            Measure     Value   YoY  \n",
       "42  Median Base Pay  $ 57,616  1.3%  \n",
       "43  Median Base Pay  $ 41,923  1.5%  \n",
       "44  Median Base Pay  $ 99,715  0.8%  \n",
       "45  Median Base Pay  $ 32,223  3.3%  \n",
       "46  Median Base Pay  $ 25,678  3.1%  "
      ]
     },
     "execution_count": 35,
     "metadata": {},
     "output_type": "execute_result"
    }
   ],
   "source": [
    "job_title.head()"
   ]
  },
  {
   "cell_type": "code",
   "execution_count": 36,
   "metadata": {},
   "outputs": [
    {
     "data": {
      "text/html": [
       "<div>\n",
       "<style scoped>\n",
       "    .dataframe tbody tr th:only-of-type {\n",
       "        vertical-align: middle;\n",
       "    }\n",
       "\n",
       "    .dataframe tbody tr th {\n",
       "        vertical-align: top;\n",
       "    }\n",
       "\n",
       "    .dataframe thead th {\n",
       "        text-align: right;\n",
       "    }\n",
       "</style>\n",
       "<table border=\"1\" class=\"dataframe\">\n",
       "  <thead>\n",
       "    <tr style=\"text-align: right;\">\n",
       "      <th></th>\n",
       "      <th>Metro</th>\n",
       "      <th>Dimension_Type</th>\n",
       "      <th>Month</th>\n",
       "      <th>Dimension</th>\n",
       "      <th>Measure</th>\n",
       "      <th>Value</th>\n",
       "      <th>YoY</th>\n",
       "    </tr>\n",
       "  </thead>\n",
       "  <tbody>\n",
       "    <tr>\n",
       "      <th>961</th>\n",
       "      <td>Washington DC</td>\n",
       "      <td>Job Title</td>\n",
       "      <td>2019-05</td>\n",
       "      <td>Truck Driver</td>\n",
       "      <td>Median Base Pay</td>\n",
       "      <td>$ 56,755</td>\n",
       "      <td>5.1%</td>\n",
       "    </tr>\n",
       "    <tr>\n",
       "      <th>962</th>\n",
       "      <td>Washington DC</td>\n",
       "      <td>Job Title</td>\n",
       "      <td>2019-05</td>\n",
       "      <td>UX Designer</td>\n",
       "      <td>Median Base Pay</td>\n",
       "      <td>$ 88,629</td>\n",
       "      <td>1.9%</td>\n",
       "    </tr>\n",
       "    <tr>\n",
       "      <th>963</th>\n",
       "      <td>Washington DC</td>\n",
       "      <td>Job Title</td>\n",
       "      <td>2019-05</td>\n",
       "      <td>Warehouse Associate</td>\n",
       "      <td>Median Base Pay</td>\n",
       "      <td>$ 42,607</td>\n",
       "      <td>1.8%</td>\n",
       "    </tr>\n",
       "    <tr>\n",
       "      <th>964</th>\n",
       "      <td>Washington DC</td>\n",
       "      <td>Job Title</td>\n",
       "      <td>2019-05</td>\n",
       "      <td>Web Designer</td>\n",
       "      <td>Median Base Pay</td>\n",
       "      <td>$ 69,624</td>\n",
       "      <td>1.7%</td>\n",
       "    </tr>\n",
       "    <tr>\n",
       "      <th>965</th>\n",
       "      <td>Washington DC</td>\n",
       "      <td>Job Title</td>\n",
       "      <td>2019-05</td>\n",
       "      <td>Web Developer</td>\n",
       "      <td>Median Base Pay</td>\n",
       "      <td>$ 88,734</td>\n",
       "      <td>3.3%</td>\n",
       "    </tr>\n",
       "  </tbody>\n",
       "</table>\n",
       "</div>"
      ],
      "text/plain": [
       "             Metro Dimension_Type    Month            Dimension  \\\n",
       "961  Washington DC      Job Title  2019-05         Truck Driver   \n",
       "962  Washington DC      Job Title  2019-05          UX Designer   \n",
       "963  Washington DC      Job Title  2019-05  Warehouse Associate   \n",
       "964  Washington DC      Job Title  2019-05         Web Designer   \n",
       "965  Washington DC      Job Title  2019-05        Web Developer   \n",
       "\n",
       "             Measure     Value   YoY  \n",
       "961  Median Base Pay  $ 56,755  5.1%  \n",
       "962  Median Base Pay  $ 88,629  1.9%  \n",
       "963  Median Base Pay  $ 42,607  1.8%  \n",
       "964  Median Base Pay  $ 69,624  1.7%  \n",
       "965  Median Base Pay  $ 88,734  3.3%  "
      ]
     },
     "execution_count": 36,
     "metadata": {},
     "output_type": "execute_result"
    }
   ],
   "source": [
    "job_title.tail()"
   ]
  },
  {
   "cell_type": "code",
   "execution_count": 37,
   "metadata": {},
   "outputs": [
    {
     "data": {
      "text/html": [
       "<div>\n",
       "<style scoped>\n",
       "    .dataframe tbody tr th:only-of-type {\n",
       "        vertical-align: middle;\n",
       "    }\n",
       "\n",
       "    .dataframe tbody tr th {\n",
       "        vertical-align: top;\n",
       "    }\n",
       "\n",
       "    .dataframe thead th {\n",
       "        text-align: right;\n",
       "    }\n",
       "</style>\n",
       "<table border=\"1\" class=\"dataframe\">\n",
       "  <thead>\n",
       "    <tr style=\"text-align: right;\">\n",
       "      <th></th>\n",
       "      <th>Metro</th>\n",
       "      <th>Dimension_Type</th>\n",
       "      <th>Month</th>\n",
       "      <th>Dimension</th>\n",
       "      <th>Measure</th>\n",
       "      <th>Value</th>\n",
       "      <th>YoY</th>\n",
       "    </tr>\n",
       "  </thead>\n",
       "  <tbody>\n",
       "    <tr>\n",
       "      <th>count</th>\n",
       "      <td>4620</td>\n",
       "      <td>4620</td>\n",
       "      <td>4620</td>\n",
       "      <td>4620</td>\n",
       "      <td>4620</td>\n",
       "      <td>4620</td>\n",
       "      <td>4620</td>\n",
       "    </tr>\n",
       "    <tr>\n",
       "      <th>unique</th>\n",
       "      <td>11</td>\n",
       "      <td>1</td>\n",
       "      <td>5</td>\n",
       "      <td>84</td>\n",
       "      <td>1</td>\n",
       "      <td>4492</td>\n",
       "      <td>132</td>\n",
       "    </tr>\n",
       "    <tr>\n",
       "      <th>top</th>\n",
       "      <td>Chicago</td>\n",
       "      <td>Job Title</td>\n",
       "      <td>2019-08</td>\n",
       "      <td>Customer Service Manager</td>\n",
       "      <td>Median Base Pay</td>\n",
       "      <td>$ 52,522</td>\n",
       "      <td>2.4%</td>\n",
       "    </tr>\n",
       "    <tr>\n",
       "      <th>freq</th>\n",
       "      <td>420</td>\n",
       "      <td>4620</td>\n",
       "      <td>924</td>\n",
       "      <td>55</td>\n",
       "      <td>4620</td>\n",
       "      <td>3</td>\n",
       "      <td>158</td>\n",
       "    </tr>\n",
       "  </tbody>\n",
       "</table>\n",
       "</div>"
      ],
      "text/plain": [
       "          Metro Dimension_Type    Month                 Dimension  \\\n",
       "count      4620           4620     4620                      4620   \n",
       "unique       11              1        5                        84   \n",
       "top     Chicago      Job Title  2019-08  Customer Service Manager   \n",
       "freq        420           4620      924                        55   \n",
       "\n",
       "                Measure     Value   YoY  \n",
       "count              4620      4620  4620  \n",
       "unique                1      4492   132  \n",
       "top     Median Base Pay  $ 52,522  2.4%  \n",
       "freq               4620         3   158  "
      ]
     },
     "execution_count": 37,
     "metadata": {},
     "output_type": "execute_result"
    }
   ],
   "source": [
    "job_title.describe()"
   ]
  },
  {
   "cell_type": "code",
   "execution_count": 38,
   "metadata": {
    "scrolled": true
   },
   "outputs": [
    {
     "data": {
      "text/plain": [
       "Metro             object\n",
       "Dimension_Type    object\n",
       "Month             object\n",
       "Dimension         object\n",
       "Measure           object\n",
       "Value             object\n",
       "YoY               object\n",
       "dtype: object"
      ]
     },
     "execution_count": 38,
     "metadata": {},
     "output_type": "execute_result"
    }
   ],
   "source": [
    "job_title.dtypes"
   ]
  },
  {
   "cell_type": "markdown",
   "metadata": {},
   "source": [
    "Changing Month column type to datetime."
   ]
  },
  {
   "cell_type": "code",
   "execution_count": 39,
   "metadata": {},
   "outputs": [],
   "source": [
    "job_title['Month']=job_title['Month'].astype('datetime64')"
   ]
  },
  {
   "cell_type": "markdown",
   "metadata": {},
   "source": [
    "Removing $ and , from the Value column. And changing its type to int"
   ]
  },
  {
   "cell_type": "code",
   "execution_count": 40,
   "metadata": {},
   "outputs": [],
   "source": [
    "job_title['Value'] = job_title['Value'].str.replace(',', '')\n",
    "job_title['Value'] = job_title['Value'].str.replace('$', '')\n",
    "job_title['Value'] = job_title['Value'].astype(int)"
   ]
  },
  {
   "cell_type": "code",
   "execution_count": 41,
   "metadata": {},
   "outputs": [
    {
     "data": {
      "text/html": [
       "<div>\n",
       "<style scoped>\n",
       "    .dataframe tbody tr th:only-of-type {\n",
       "        vertical-align: middle;\n",
       "    }\n",
       "\n",
       "    .dataframe tbody tr th {\n",
       "        vertical-align: top;\n",
       "    }\n",
       "\n",
       "    .dataframe thead th {\n",
       "        text-align: right;\n",
       "    }\n",
       "</style>\n",
       "<table border=\"1\" class=\"dataframe\">\n",
       "  <thead>\n",
       "    <tr style=\"text-align: right;\">\n",
       "      <th></th>\n",
       "      <th>Metro</th>\n",
       "      <th>Dimension_Type</th>\n",
       "      <th>Month</th>\n",
       "      <th>Dimension</th>\n",
       "      <th>Measure</th>\n",
       "      <th>Value</th>\n",
       "      <th>YoY</th>\n",
       "    </tr>\n",
       "  </thead>\n",
       "  <tbody>\n",
       "    <tr>\n",
       "      <th>42</th>\n",
       "      <td>National</td>\n",
       "      <td>Job Title</td>\n",
       "      <td>2019-09-01</td>\n",
       "      <td>Accountant</td>\n",
       "      <td>Median Base Pay</td>\n",
       "      <td>57616</td>\n",
       "      <td>1.3%</td>\n",
       "    </tr>\n",
       "    <tr>\n",
       "      <th>43</th>\n",
       "      <td>National</td>\n",
       "      <td>Job Title</td>\n",
       "      <td>2019-09-01</td>\n",
       "      <td>Administrative Assistant</td>\n",
       "      <td>Median Base Pay</td>\n",
       "      <td>41923</td>\n",
       "      <td>1.5%</td>\n",
       "    </tr>\n",
       "    <tr>\n",
       "      <th>44</th>\n",
       "      <td>National</td>\n",
       "      <td>Job Title</td>\n",
       "      <td>2019-09-01</td>\n",
       "      <td>Attorney</td>\n",
       "      <td>Median Base Pay</td>\n",
       "      <td>99715</td>\n",
       "      <td>0.8%</td>\n",
       "    </tr>\n",
       "    <tr>\n",
       "      <th>45</th>\n",
       "      <td>National</td>\n",
       "      <td>Job Title</td>\n",
       "      <td>2019-09-01</td>\n",
       "      <td>Bank Teller</td>\n",
       "      <td>Median Base Pay</td>\n",
       "      <td>32223</td>\n",
       "      <td>3.3%</td>\n",
       "    </tr>\n",
       "    <tr>\n",
       "      <th>46</th>\n",
       "      <td>National</td>\n",
       "      <td>Job Title</td>\n",
       "      <td>2019-09-01</td>\n",
       "      <td>Barista</td>\n",
       "      <td>Median Base Pay</td>\n",
       "      <td>25678</td>\n",
       "      <td>3.1%</td>\n",
       "    </tr>\n",
       "  </tbody>\n",
       "</table>\n",
       "</div>"
      ],
      "text/plain": [
       "       Metro Dimension_Type      Month                 Dimension  \\\n",
       "42  National      Job Title 2019-09-01                Accountant   \n",
       "43  National      Job Title 2019-09-01  Administrative Assistant   \n",
       "44  National      Job Title 2019-09-01                  Attorney   \n",
       "45  National      Job Title 2019-09-01               Bank Teller   \n",
       "46  National      Job Title 2019-09-01                   Barista   \n",
       "\n",
       "            Measure  Value   YoY  \n",
       "42  Median Base Pay  57616  1.3%  \n",
       "43  Median Base Pay  41923  1.5%  \n",
       "44  Median Base Pay  99715  0.8%  \n",
       "45  Median Base Pay  32223  3.3%  \n",
       "46  Median Base Pay  25678  3.1%  "
      ]
     },
     "execution_count": 41,
     "metadata": {},
     "output_type": "execute_result"
    }
   ],
   "source": [
    "job_title.head()"
   ]
  },
  {
   "cell_type": "markdown",
   "metadata": {},
   "source": [
    "# Now we have done all the cleaning, we will work on our Hypothesis."
   ]
  },
  {
   "cell_type": "markdown",
   "metadata": {},
   "source": [
    "# Hypothesis 1: Which is the highest paying job in the last 5 months."
   ]
  },
  {
   "cell_type": "markdown",
   "metadata": {},
   "source": [
    "For this Hypothesis we will be using job_title DataFrame"
   ]
  },
  {
   "cell_type": "code",
   "execution_count": 42,
   "metadata": {},
   "outputs": [],
   "source": [
    "grpByMonths=job_title.groupby('Month')"
   ]
  },
  {
   "cell_type": "code",
   "execution_count": 43,
   "metadata": {},
   "outputs": [
    {
     "data": {
      "text/html": [
       "<div>\n",
       "<style scoped>\n",
       "    .dataframe tbody tr th:only-of-type {\n",
       "        vertical-align: middle;\n",
       "    }\n",
       "\n",
       "    .dataframe tbody tr th {\n",
       "        vertical-align: top;\n",
       "    }\n",
       "\n",
       "    .dataframe thead th {\n",
       "        text-align: right;\n",
       "    }\n",
       "</style>\n",
       "<table border=\"1\" class=\"dataframe\">\n",
       "  <thead>\n",
       "    <tr style=\"text-align: right;\">\n",
       "      <th></th>\n",
       "      <th>Metro</th>\n",
       "      <th>Dimension_Type</th>\n",
       "      <th>Dimension</th>\n",
       "      <th>Measure</th>\n",
       "      <th>Value</th>\n",
       "      <th>YoY</th>\n",
       "    </tr>\n",
       "    <tr>\n",
       "      <th>Month</th>\n",
       "      <th></th>\n",
       "      <th></th>\n",
       "      <th></th>\n",
       "      <th></th>\n",
       "      <th></th>\n",
       "      <th></th>\n",
       "    </tr>\n",
       "  </thead>\n",
       "  <tbody>\n",
       "    <tr>\n",
       "      <th>2019-05-01</th>\n",
       "      <td>National</td>\n",
       "      <td>Job Title</td>\n",
       "      <td>Accountant</td>\n",
       "      <td>Median Base Pay</td>\n",
       "      <td>57249</td>\n",
       "      <td>1.8%</td>\n",
       "    </tr>\n",
       "    <tr>\n",
       "      <th>2019-06-01</th>\n",
       "      <td>National</td>\n",
       "      <td>Job Title</td>\n",
       "      <td>Accountant</td>\n",
       "      <td>Median Base Pay</td>\n",
       "      <td>57377</td>\n",
       "      <td>1.4%</td>\n",
       "    </tr>\n",
       "    <tr>\n",
       "      <th>2019-07-01</th>\n",
       "      <td>National</td>\n",
       "      <td>Job Title</td>\n",
       "      <td>Accountant</td>\n",
       "      <td>Median Base Pay</td>\n",
       "      <td>57499</td>\n",
       "      <td>1.4%</td>\n",
       "    </tr>\n",
       "    <tr>\n",
       "      <th>2019-08-01</th>\n",
       "      <td>National</td>\n",
       "      <td>Job Title</td>\n",
       "      <td>Accountant</td>\n",
       "      <td>Median Base Pay</td>\n",
       "      <td>57445</td>\n",
       "      <td>1.2%</td>\n",
       "    </tr>\n",
       "    <tr>\n",
       "      <th>2019-09-01</th>\n",
       "      <td>National</td>\n",
       "      <td>Job Title</td>\n",
       "      <td>Accountant</td>\n",
       "      <td>Median Base Pay</td>\n",
       "      <td>57616</td>\n",
       "      <td>1.3%</td>\n",
       "    </tr>\n",
       "  </tbody>\n",
       "</table>\n",
       "</div>"
      ],
      "text/plain": [
       "               Metro Dimension_Type   Dimension          Measure  Value   YoY\n",
       "Month                                                                        \n",
       "2019-05-01  National      Job Title  Accountant  Median Base Pay  57249  1.8%\n",
       "2019-06-01  National      Job Title  Accountant  Median Base Pay  57377  1.4%\n",
       "2019-07-01  National      Job Title  Accountant  Median Base Pay  57499  1.4%\n",
       "2019-08-01  National      Job Title  Accountant  Median Base Pay  57445  1.2%\n",
       "2019-09-01  National      Job Title  Accountant  Median Base Pay  57616  1.3%"
      ]
     },
     "execution_count": 43,
     "metadata": {},
     "output_type": "execute_result"
    }
   ],
   "source": [
    "grpByMonths.first()"
   ]
  },
  {
   "cell_type": "markdown",
   "metadata": {},
   "source": [
    "#### To find this out wee need Maximum of Value column for each month."
   ]
  },
  {
   "cell_type": "code",
   "execution_count": 44,
   "metadata": {},
   "outputs": [],
   "source": [
    "highestPaidJob=job_title.loc[job_title['Value'].idxmax()]"
   ]
  },
  {
   "cell_type": "code",
   "execution_count": 45,
   "metadata": {},
   "outputs": [
    {
     "data": {
      "text/html": [
       "<div>\n",
       "<style scoped>\n",
       "    .dataframe tbody tr th:only-of-type {\n",
       "        vertical-align: middle;\n",
       "    }\n",
       "\n",
       "    .dataframe tbody tr th {\n",
       "        vertical-align: top;\n",
       "    }\n",
       "\n",
       "    .dataframe thead th {\n",
       "        text-align: right;\n",
       "    }\n",
       "</style>\n",
       "<table border=\"1\" class=\"dataframe\">\n",
       "  <thead>\n",
       "    <tr style=\"text-align: right;\">\n",
       "      <th></th>\n",
       "      <th>Metro</th>\n",
       "      <th>Dimension_Type</th>\n",
       "      <th>Month</th>\n",
       "      <th>Dimension</th>\n",
       "      <th>Measure</th>\n",
       "      <th>Value</th>\n",
       "      <th>YoY</th>\n",
       "    </tr>\n",
       "  </thead>\n",
       "  <tbody>\n",
       "    <tr>\n",
       "      <th>632</th>\n",
       "      <td>San Francisco</td>\n",
       "      <td>Job Title</td>\n",
       "      <td>2019-09-01</td>\n",
       "      <td>Attorney</td>\n",
       "      <td>Median Base Pay</td>\n",
       "      <td>154758</td>\n",
       "      <td>1.8%</td>\n",
       "    </tr>\n",
       "    <tr>\n",
       "      <th>632</th>\n",
       "      <td>San Francisco</td>\n",
       "      <td>Job Title</td>\n",
       "      <td>2019-08-01</td>\n",
       "      <td>Attorney</td>\n",
       "      <td>Median Base Pay</td>\n",
       "      <td>152159</td>\n",
       "      <td>0.5%</td>\n",
       "    </tr>\n",
       "    <tr>\n",
       "      <th>632</th>\n",
       "      <td>San Francisco</td>\n",
       "      <td>Job Title</td>\n",
       "      <td>2019-07-01</td>\n",
       "      <td>Attorney</td>\n",
       "      <td>Median Base Pay</td>\n",
       "      <td>151630</td>\n",
       "      <td>-0.0%</td>\n",
       "    </tr>\n",
       "    <tr>\n",
       "      <th>632</th>\n",
       "      <td>San Francisco</td>\n",
       "      <td>Job Title</td>\n",
       "      <td>2019-06-01</td>\n",
       "      <td>Attorney</td>\n",
       "      <td>Median Base Pay</td>\n",
       "      <td>149757</td>\n",
       "      <td>-1.7%</td>\n",
       "    </tr>\n",
       "    <tr>\n",
       "      <th>632</th>\n",
       "      <td>San Francisco</td>\n",
       "      <td>Job Title</td>\n",
       "      <td>2019-05-01</td>\n",
       "      <td>Attorney</td>\n",
       "      <td>Median Base Pay</td>\n",
       "      <td>151906</td>\n",
       "      <td>-0.9%</td>\n",
       "    </tr>\n",
       "  </tbody>\n",
       "</table>\n",
       "</div>"
      ],
      "text/plain": [
       "             Metro Dimension_Type      Month Dimension          Measure  \\\n",
       "632  San Francisco      Job Title 2019-09-01  Attorney  Median Base Pay   \n",
       "632  San Francisco      Job Title 2019-08-01  Attorney  Median Base Pay   \n",
       "632  San Francisco      Job Title 2019-07-01  Attorney  Median Base Pay   \n",
       "632  San Francisco      Job Title 2019-06-01  Attorney  Median Base Pay   \n",
       "632  San Francisco      Job Title 2019-05-01  Attorney  Median Base Pay   \n",
       "\n",
       "      Value    YoY  \n",
       "632  154758   1.8%  \n",
       "632  152159   0.5%  \n",
       "632  151630  -0.0%  \n",
       "632  149757  -1.7%  \n",
       "632  151906  -0.9%  "
      ]
     },
     "execution_count": 45,
     "metadata": {},
     "output_type": "execute_result"
    }
   ],
   "source": [
    "highestPaidJob"
   ]
  },
  {
   "cell_type": "markdown",
   "metadata": {},
   "source": [
    "# Answer for Hypothesis 1: Highest paid profession in last 5 month is Attorney in San Francisco with Median base pay of $ 154,758 in Sept."
   ]
  },
  {
   "cell_type": "code",
   "execution_count": 46,
   "metadata": {},
   "outputs": [],
   "source": [
    "month=highestPaidJob['Month']"
   ]
  },
  {
   "cell_type": "markdown",
   "metadata": {},
   "source": [
    "#### Let us check, the salary flow of Attorney from May to september."
   ]
  },
  {
   "cell_type": "code",
   "execution_count": 47,
   "metadata": {},
   "outputs": [
    {
     "name": "stderr",
     "output_type": "stream",
     "text": [
      "C:\\Users\\paridhi\\Anaconda3\\lib\\site-packages\\pandas\\plotting\\_converter.py:129: FutureWarning: Using an implicitly registered datetime converter for a matplotlib plotting method. The converter was registered by pandas on import. Future versions of pandas will require you to explicitly register matplotlib converters.\n",
      "\n",
      "To register the converters:\n",
      "\t>>> from pandas.plotting import register_matplotlib_converters\n",
      "\t>>> register_matplotlib_converters()\n",
      "  warnings.warn(msg, FutureWarning)\n"
     ]
    },
    {
     "data": {
      "image/png": "[encoded data removed]",
      "text/plain": [
       "<Figure size 576x720 with 1 Axes>"
      ]
     },
     "metadata": {
      "needs_background": "light"
     },
     "output_type": "display_data"
    }
   ],
   "source": [
    "f, ax = plt.subplots(figsize=(8,10)) \n",
    "plt.plot(highestPaidJob['Month'],highestPaidJob['Value'], label='Attorney - Highest Paid Job')\n",
    "plt.xticks(rotation='vertical')\n",
    "plt.xlabel('Months')\n",
    "plt.ylabel('Median Salary')\n",
    "plt.title('Pay flow of Attorney from May to Sept 2019')\n",
    "ax.legend()\n",
    "plt.show()"
   ]
  },
  {
   "cell_type": "markdown",
   "metadata": {},
   "source": [
    "# Hypothesis 2: What is the highest paid job in each metro."
   ]
  },
  {
   "cell_type": "code",
   "execution_count": 48,
   "metadata": {},
   "outputs": [],
   "source": [
    "grpByMetro=job_title.loc[job_title.reindex().groupby(['Metro'])['Value'].idxmax()]"
   ]
  },
  {
   "cell_type": "code",
   "execution_count": 49,
   "metadata": {
    "scrolled": true
   },
   "outputs": [
    {
     "data": {
      "text/html": [
       "<div>\n",
       "<style scoped>\n",
       "    .dataframe tbody tr th:only-of-type {\n",
       "        vertical-align: middle;\n",
       "    }\n",
       "\n",
       "    .dataframe tbody tr th {\n",
       "        vertical-align: top;\n",
       "    }\n",
       "\n",
       "    .dataframe thead th {\n",
       "        text-align: right;\n",
       "    }\n",
       "</style>\n",
       "<table border=\"1\" class=\"dataframe\">\n",
       "  <thead>\n",
       "    <tr style=\"text-align: right;\">\n",
       "      <th></th>\n",
       "      <th>Metro</th>\n",
       "      <th>Dimension_Type</th>\n",
       "      <th>Month</th>\n",
       "      <th>Dimension</th>\n",
       "      <th>Measure</th>\n",
       "      <th>Value</th>\n",
       "      <th>YoY</th>\n",
       "    </tr>\n",
       "  </thead>\n",
       "  <tbody>\n",
       "    <tr>\n",
       "      <th>197</th>\n",
       "      <td>Atlanta</td>\n",
       "      <td>Job Title</td>\n",
       "      <td>2019-09-01</td>\n",
       "      <td>Solutions Architect</td>\n",
       "      <td>Median Base Pay</td>\n",
       "      <td>120207</td>\n",
       "      <td>3.8%</td>\n",
       "    </tr>\n",
       "    <tr>\n",
       "      <th>197</th>\n",
       "      <td>Atlanta</td>\n",
       "      <td>Job Title</td>\n",
       "      <td>2019-08-01</td>\n",
       "      <td>Solutions Architect</td>\n",
       "      <td>Median Base Pay</td>\n",
       "      <td>119507</td>\n",
       "      <td>3.0%</td>\n",
       "    </tr>\n",
       "    <tr>\n",
       "      <th>197</th>\n",
       "      <td>Atlanta</td>\n",
       "      <td>Job Title</td>\n",
       "      <td>2019-07-01</td>\n",
       "      <td>Solutions Architect</td>\n",
       "      <td>Median Base Pay</td>\n",
       "      <td>117176</td>\n",
       "      <td>0.4%</td>\n",
       "    </tr>\n",
       "    <tr>\n",
       "      <th>197</th>\n",
       "      <td>Atlanta</td>\n",
       "      <td>Job Title</td>\n",
       "      <td>2019-06-01</td>\n",
       "      <td>Solutions Architect</td>\n",
       "      <td>Median Base Pay</td>\n",
       "      <td>117993</td>\n",
       "      <td>0.3%</td>\n",
       "    </tr>\n",
       "    <tr>\n",
       "      <th>197</th>\n",
       "      <td>Atlanta</td>\n",
       "      <td>Job Title</td>\n",
       "      <td>2019-05-01</td>\n",
       "      <td>Solutions Architect</td>\n",
       "      <td>Median Base Pay</td>\n",
       "      <td>118782</td>\n",
       "      <td>1.8%</td>\n",
       "    </tr>\n",
       "    <tr>\n",
       "      <th>852</th>\n",
       "      <td>Boston</td>\n",
       "      <td>Job Title</td>\n",
       "      <td>2019-09-01</td>\n",
       "      <td>Professor</td>\n",
       "      <td>Median Base Pay</td>\n",
       "      <td>123479</td>\n",
       "      <td>3.9%</td>\n",
       "    </tr>\n",
       "    <tr>\n",
       "      <th>852</th>\n",
       "      <td>Boston</td>\n",
       "      <td>Job Title</td>\n",
       "      <td>2019-08-01</td>\n",
       "      <td>Professor</td>\n",
       "      <td>Median Base Pay</td>\n",
       "      <td>121399</td>\n",
       "      <td>2.1%</td>\n",
       "    </tr>\n",
       "    <tr>\n",
       "      <th>852</th>\n",
       "      <td>Boston</td>\n",
       "      <td>Job Title</td>\n",
       "      <td>2019-07-01</td>\n",
       "      <td>Professor</td>\n",
       "      <td>Median Base Pay</td>\n",
       "      <td>120776</td>\n",
       "      <td>1.0%</td>\n",
       "    </tr>\n",
       "    <tr>\n",
       "      <th>852</th>\n",
       "      <td>Boston</td>\n",
       "      <td>Job Title</td>\n",
       "      <td>2019-06-01</td>\n",
       "      <td>Professor</td>\n",
       "      <td>Median Base Pay</td>\n",
       "      <td>120413</td>\n",
       "      <td>0.5%</td>\n",
       "    </tr>\n",
       "    <tr>\n",
       "      <th>852</th>\n",
       "      <td>Boston</td>\n",
       "      <td>Job Title</td>\n",
       "      <td>2019-05-01</td>\n",
       "      <td>Professor</td>\n",
       "      <td>Median Base Pay</td>\n",
       "      <td>119550</td>\n",
       "      <td>0.3%</td>\n",
       "    </tr>\n",
       "    <tr>\n",
       "      <th>761</th>\n",
       "      <td>Chicago</td>\n",
       "      <td>Job Title</td>\n",
       "      <td>2019-09-01</td>\n",
       "      <td>Pharmacist</td>\n",
       "      <td>Median Base Pay</td>\n",
       "      <td>121067</td>\n",
       "      <td>-1.6%</td>\n",
       "    </tr>\n",
       "    <tr>\n",
       "      <th>761</th>\n",
       "      <td>Chicago</td>\n",
       "      <td>Job Title</td>\n",
       "      <td>2019-08-01</td>\n",
       "      <td>Pharmacist</td>\n",
       "      <td>Median Base Pay</td>\n",
       "      <td>121098</td>\n",
       "      <td>-1.4%</td>\n",
       "    </tr>\n",
       "    <tr>\n",
       "      <th>761</th>\n",
       "      <td>Chicago</td>\n",
       "      <td>Job Title</td>\n",
       "      <td>2019-07-01</td>\n",
       "      <td>Pharmacist</td>\n",
       "      <td>Median Base Pay</td>\n",
       "      <td>121986</td>\n",
       "      <td>-0.9%</td>\n",
       "    </tr>\n",
       "    <tr>\n",
       "      <th>761</th>\n",
       "      <td>Chicago</td>\n",
       "      <td>Job Title</td>\n",
       "      <td>2019-06-01</td>\n",
       "      <td>Pharmacist</td>\n",
       "      <td>Median Base Pay</td>\n",
       "      <td>121841</td>\n",
       "      <td>-0.7%</td>\n",
       "    </tr>\n",
       "    <tr>\n",
       "      <th>761</th>\n",
       "      <td>Chicago</td>\n",
       "      <td>Job Title</td>\n",
       "      <td>2019-05-01</td>\n",
       "      <td>Pharmacist</td>\n",
       "      <td>Median Base Pay</td>\n",
       "      <td>122120</td>\n",
       "      <td>-0.6%</td>\n",
       "    </tr>\n",
       "    <tr>\n",
       "      <th>464</th>\n",
       "      <td>Houston</td>\n",
       "      <td>Job Title</td>\n",
       "      <td>2019-09-01</td>\n",
       "      <td>Attorney</td>\n",
       "      <td>Median Base Pay</td>\n",
       "      <td>123589</td>\n",
       "      <td>1.0%</td>\n",
       "    </tr>\n",
       "    <tr>\n",
       "      <th>464</th>\n",
       "      <td>Houston</td>\n",
       "      <td>Job Title</td>\n",
       "      <td>2019-08-01</td>\n",
       "      <td>Attorney</td>\n",
       "      <td>Median Base Pay</td>\n",
       "      <td>122557</td>\n",
       "      <td>-0.3%</td>\n",
       "    </tr>\n",
       "    <tr>\n",
       "      <th>464</th>\n",
       "      <td>Houston</td>\n",
       "      <td>Job Title</td>\n",
       "      <td>2019-07-01</td>\n",
       "      <td>Attorney</td>\n",
       "      <td>Median Base Pay</td>\n",
       "      <td>121176</td>\n",
       "      <td>-1.4%</td>\n",
       "    </tr>\n",
       "    <tr>\n",
       "      <th>464</th>\n",
       "      <td>Houston</td>\n",
       "      <td>Job Title</td>\n",
       "      <td>2019-06-01</td>\n",
       "      <td>Attorney</td>\n",
       "      <td>Median Base Pay</td>\n",
       "      <td>118733</td>\n",
       "      <td>-4.0%</td>\n",
       "    </tr>\n",
       "    <tr>\n",
       "      <th>464</th>\n",
       "      <td>Houston</td>\n",
       "      <td>Job Title</td>\n",
       "      <td>2019-05-01</td>\n",
       "      <td>Attorney</td>\n",
       "      <td>Median Base Pay</td>\n",
       "      <td>120580</td>\n",
       "      <td>-3.2%</td>\n",
       "    </tr>\n",
       "    <tr>\n",
       "      <th>341</th>\n",
       "      <td>Los Angeles</td>\n",
       "      <td>Job Title</td>\n",
       "      <td>2019-09-01</td>\n",
       "      <td>Pharmacist</td>\n",
       "      <td>Median Base Pay</td>\n",
       "      <td>136178</td>\n",
       "      <td>-1.2%</td>\n",
       "    </tr>\n",
       "    <tr>\n",
       "      <th>341</th>\n",
       "      <td>Los Angeles</td>\n",
       "      <td>Job Title</td>\n",
       "      <td>2019-08-01</td>\n",
       "      <td>Pharmacist</td>\n",
       "      <td>Median Base Pay</td>\n",
       "      <td>136515</td>\n",
       "      <td>-0.6%</td>\n",
       "    </tr>\n",
       "    <tr>\n",
       "      <th>341</th>\n",
       "      <td>Los Angeles</td>\n",
       "      <td>Job Title</td>\n",
       "      <td>2019-07-01</td>\n",
       "      <td>Pharmacist</td>\n",
       "      <td>Median Base Pay</td>\n",
       "      <td>137371</td>\n",
       "      <td>0.1%</td>\n",
       "    </tr>\n",
       "    <tr>\n",
       "      <th>341</th>\n",
       "      <td>Los Angeles</td>\n",
       "      <td>Job Title</td>\n",
       "      <td>2019-06-01</td>\n",
       "      <td>Pharmacist</td>\n",
       "      <td>Median Base Pay</td>\n",
       "      <td>137497</td>\n",
       "      <td>0.2%</td>\n",
       "    </tr>\n",
       "    <tr>\n",
       "      <th>341</th>\n",
       "      <td>Los Angeles</td>\n",
       "      <td>Job Title</td>\n",
       "      <td>2019-05-01</td>\n",
       "      <td>Pharmacist</td>\n",
       "      <td>Median Base Pay</td>\n",
       "      <td>137440</td>\n",
       "      <td>-0.2%</td>\n",
       "    </tr>\n",
       "    <tr>\n",
       "      <th>89</th>\n",
       "      <td>National</td>\n",
       "      <td>Job Title</td>\n",
       "      <td>2019-09-01</td>\n",
       "      <td>Pharmacist</td>\n",
       "      <td>Median Base Pay</td>\n",
       "      <td>125211</td>\n",
       "      <td>-1.9%</td>\n",
       "    </tr>\n",
       "    <tr>\n",
       "      <th>89</th>\n",
       "      <td>National</td>\n",
       "      <td>Job Title</td>\n",
       "      <td>2019-08-01</td>\n",
       "      <td>Pharmacist</td>\n",
       "      <td>Median Base Pay</td>\n",
       "      <td>125441</td>\n",
       "      <td>-1.6%</td>\n",
       "    </tr>\n",
       "    <tr>\n",
       "      <th>89</th>\n",
       "      <td>National</td>\n",
       "      <td>Job Title</td>\n",
       "      <td>2019-07-01</td>\n",
       "      <td>Pharmacist</td>\n",
       "      <td>Median Base Pay</td>\n",
       "      <td>126442</td>\n",
       "      <td>-0.7%</td>\n",
       "    </tr>\n",
       "    <tr>\n",
       "      <th>89</th>\n",
       "      <td>National</td>\n",
       "      <td>Job Title</td>\n",
       "      <td>2019-06-01</td>\n",
       "      <td>Pharmacist</td>\n",
       "      <td>Median Base Pay</td>\n",
       "      <td>126573</td>\n",
       "      <td>-0.6%</td>\n",
       "    </tr>\n",
       "    <tr>\n",
       "      <th>89</th>\n",
       "      <td>National</td>\n",
       "      <td>Job Title</td>\n",
       "      <td>2019-05-01</td>\n",
       "      <td>Pharmacist</td>\n",
       "      <td>Median Base Pay</td>\n",
       "      <td>127267</td>\n",
       "      <td>-0.2%</td>\n",
       "    </tr>\n",
       "    <tr>\n",
       "      <th>212</th>\n",
       "      <td>New York City</td>\n",
       "      <td>Job Title</td>\n",
       "      <td>2019-09-01</td>\n",
       "      <td>Attorney</td>\n",
       "      <td>Median Base Pay</td>\n",
       "      <td>129633</td>\n",
       "      <td>1.1%</td>\n",
       "    </tr>\n",
       "    <tr>\n",
       "      <th>212</th>\n",
       "      <td>New York City</td>\n",
       "      <td>Job Title</td>\n",
       "      <td>2019-08-01</td>\n",
       "      <td>Attorney</td>\n",
       "      <td>Median Base Pay</td>\n",
       "      <td>129165</td>\n",
       "      <td>-0.1%</td>\n",
       "    </tr>\n",
       "    <tr>\n",
       "      <th>212</th>\n",
       "      <td>New York City</td>\n",
       "      <td>Job Title</td>\n",
       "      <td>2019-07-01</td>\n",
       "      <td>Attorney</td>\n",
       "      <td>Median Base Pay</td>\n",
       "      <td>128039</td>\n",
       "      <td>-1.4%</td>\n",
       "    </tr>\n",
       "    <tr>\n",
       "      <th>212</th>\n",
       "      <td>New York City</td>\n",
       "      <td>Job Title</td>\n",
       "      <td>2019-06-01</td>\n",
       "      <td>Attorney</td>\n",
       "      <td>Median Base Pay</td>\n",
       "      <td>127111</td>\n",
       "      <td>-2.4%</td>\n",
       "    </tr>\n",
       "    <tr>\n",
       "      <th>212</th>\n",
       "      <td>New York City</td>\n",
       "      <td>Job Title</td>\n",
       "      <td>2019-05-01</td>\n",
       "      <td>Attorney</td>\n",
       "      <td>Median Base Pay</td>\n",
       "      <td>128977</td>\n",
       "      <td>-1.9%</td>\n",
       "    </tr>\n",
       "    <tr>\n",
       "      <th>425</th>\n",
       "      <td>Philadelphia</td>\n",
       "      <td>Job Title</td>\n",
       "      <td>2019-09-01</td>\n",
       "      <td>Pharmacist</td>\n",
       "      <td>Median Base Pay</td>\n",
       "      <td>118820</td>\n",
       "      <td>-2.1%</td>\n",
       "    </tr>\n",
       "    <tr>\n",
       "      <th>425</th>\n",
       "      <td>Philadelphia</td>\n",
       "      <td>Job Title</td>\n",
       "      <td>2019-08-01</td>\n",
       "      <td>Pharmacist</td>\n",
       "      <td>Median Base Pay</td>\n",
       "      <td>118559</td>\n",
       "      <td>-2.2%</td>\n",
       "    </tr>\n",
       "    <tr>\n",
       "      <th>425</th>\n",
       "      <td>Philadelphia</td>\n",
       "      <td>Job Title</td>\n",
       "      <td>2019-07-01</td>\n",
       "      <td>Pharmacist</td>\n",
       "      <td>Median Base Pay</td>\n",
       "      <td>119618</td>\n",
       "      <td>-1.6%</td>\n",
       "    </tr>\n",
       "    <tr>\n",
       "      <th>425</th>\n",
       "      <td>Philadelphia</td>\n",
       "      <td>Job Title</td>\n",
       "      <td>2019-06-01</td>\n",
       "      <td>Pharmacist</td>\n",
       "      <td>Median Base Pay</td>\n",
       "      <td>120672</td>\n",
       "      <td>-0.6%</td>\n",
       "    </tr>\n",
       "    <tr>\n",
       "      <th>425</th>\n",
       "      <td>Philadelphia</td>\n",
       "      <td>Job Title</td>\n",
       "      <td>2019-05-01</td>\n",
       "      <td>Pharmacist</td>\n",
       "      <td>Median Base Pay</td>\n",
       "      <td>120886</td>\n",
       "      <td>-0.4%</td>\n",
       "    </tr>\n",
       "    <tr>\n",
       "      <th>632</th>\n",
       "      <td>San Francisco</td>\n",
       "      <td>Job Title</td>\n",
       "      <td>2019-09-01</td>\n",
       "      <td>Attorney</td>\n",
       "      <td>Median Base Pay</td>\n",
       "      <td>154758</td>\n",
       "      <td>1.8%</td>\n",
       "    </tr>\n",
       "    <tr>\n",
       "      <th>632</th>\n",
       "      <td>San Francisco</td>\n",
       "      <td>Job Title</td>\n",
       "      <td>2019-08-01</td>\n",
       "      <td>Attorney</td>\n",
       "      <td>Median Base Pay</td>\n",
       "      <td>152159</td>\n",
       "      <td>0.5%</td>\n",
       "    </tr>\n",
       "    <tr>\n",
       "      <th>632</th>\n",
       "      <td>San Francisco</td>\n",
       "      <td>Job Title</td>\n",
       "      <td>2019-07-01</td>\n",
       "      <td>Attorney</td>\n",
       "      <td>Median Base Pay</td>\n",
       "      <td>151630</td>\n",
       "      <td>-0.0%</td>\n",
       "    </tr>\n",
       "    <tr>\n",
       "      <th>632</th>\n",
       "      <td>San Francisco</td>\n",
       "      <td>Job Title</td>\n",
       "      <td>2019-06-01</td>\n",
       "      <td>Attorney</td>\n",
       "      <td>Median Base Pay</td>\n",
       "      <td>149757</td>\n",
       "      <td>-1.7%</td>\n",
       "    </tr>\n",
       "    <tr>\n",
       "      <th>632</th>\n",
       "      <td>San Francisco</td>\n",
       "      <td>Job Title</td>\n",
       "      <td>2019-05-01</td>\n",
       "      <td>Attorney</td>\n",
       "      <td>Median Base Pay</td>\n",
       "      <td>151906</td>\n",
       "      <td>-0.9%</td>\n",
       "    </tr>\n",
       "    <tr>\n",
       "      <th>565</th>\n",
       "      <td>Seattle</td>\n",
       "      <td>Job Title</td>\n",
       "      <td>2019-09-01</td>\n",
       "      <td>Data Scientist</td>\n",
       "      <td>Median Base Pay</td>\n",
       "      <td>128510</td>\n",
       "      <td>0.7%</td>\n",
       "    </tr>\n",
       "    <tr>\n",
       "      <th>565</th>\n",
       "      <td>Seattle</td>\n",
       "      <td>Job Title</td>\n",
       "      <td>2019-08-01</td>\n",
       "      <td>Data Scientist</td>\n",
       "      <td>Median Base Pay</td>\n",
       "      <td>128897</td>\n",
       "      <td>2.2%</td>\n",
       "    </tr>\n",
       "    <tr>\n",
       "      <th>565</th>\n",
       "      <td>Seattle</td>\n",
       "      <td>Job Title</td>\n",
       "      <td>2019-07-01</td>\n",
       "      <td>Data Scientist</td>\n",
       "      <td>Median Base Pay</td>\n",
       "      <td>129694</td>\n",
       "      <td>3.7%</td>\n",
       "    </tr>\n",
       "    <tr>\n",
       "      <th>565</th>\n",
       "      <td>Seattle</td>\n",
       "      <td>Job Title</td>\n",
       "      <td>2019-06-01</td>\n",
       "      <td>Data Scientist</td>\n",
       "      <td>Median Base Pay</td>\n",
       "      <td>128879</td>\n",
       "      <td>4.3%</td>\n",
       "    </tr>\n",
       "    <tr>\n",
       "      <th>565</th>\n",
       "      <td>Seattle</td>\n",
       "      <td>Job Title</td>\n",
       "      <td>2019-05-01</td>\n",
       "      <td>Data Scientist</td>\n",
       "      <td>Median Base Pay</td>\n",
       "      <td>127463</td>\n",
       "      <td>3.0%</td>\n",
       "    </tr>\n",
       "    <tr>\n",
       "      <th>884</th>\n",
       "      <td>Washington DC</td>\n",
       "      <td>Job Title</td>\n",
       "      <td>2019-09-01</td>\n",
       "      <td>Attorney</td>\n",
       "      <td>Median Base Pay</td>\n",
       "      <td>137609</td>\n",
       "      <td>1.2%</td>\n",
       "    </tr>\n",
       "    <tr>\n",
       "      <th>884</th>\n",
       "      <td>Washington DC</td>\n",
       "      <td>Job Title</td>\n",
       "      <td>2019-08-01</td>\n",
       "      <td>Attorney</td>\n",
       "      <td>Median Base Pay</td>\n",
       "      <td>136354</td>\n",
       "      <td>-0.2%</td>\n",
       "    </tr>\n",
       "    <tr>\n",
       "      <th>884</th>\n",
       "      <td>Washington DC</td>\n",
       "      <td>Job Title</td>\n",
       "      <td>2019-07-01</td>\n",
       "      <td>Attorney</td>\n",
       "      <td>Median Base Pay</td>\n",
       "      <td>134691</td>\n",
       "      <td>-1.1%</td>\n",
       "    </tr>\n",
       "    <tr>\n",
       "      <th>884</th>\n",
       "      <td>Washington DC</td>\n",
       "      <td>Job Title</td>\n",
       "      <td>2019-06-01</td>\n",
       "      <td>Attorney</td>\n",
       "      <td>Median Base Pay</td>\n",
       "      <td>133468</td>\n",
       "      <td>-2.7%</td>\n",
       "    </tr>\n",
       "    <tr>\n",
       "      <th>884</th>\n",
       "      <td>Washington DC</td>\n",
       "      <td>Job Title</td>\n",
       "      <td>2019-05-01</td>\n",
       "      <td>Attorney</td>\n",
       "      <td>Median Base Pay</td>\n",
       "      <td>135064</td>\n",
       "      <td>-1.8%</td>\n",
       "    </tr>\n",
       "  </tbody>\n",
       "</table>\n",
       "</div>"
      ],
      "text/plain": [
       "             Metro Dimension_Type      Month            Dimension  \\\n",
       "197        Atlanta      Job Title 2019-09-01  Solutions Architect   \n",
       "197        Atlanta      Job Title 2019-08-01  Solutions Architect   \n",
       "197        Atlanta      Job Title 2019-07-01  Solutions Architect   \n",
       "197        Atlanta      Job Title 2019-06-01  Solutions Architect   \n",
       "197        Atlanta      Job Title 2019-05-01  Solutions Architect   \n",
       "852         Boston      Job Title 2019-09-01            Professor   \n",
       "852         Boston      Job Title 2019-08-01            Professor   \n",
       "852         Boston      Job Title 2019-07-01            Professor   \n",
       "852         Boston      Job Title 2019-06-01            Professor   \n",
       "852         Boston      Job Title 2019-05-01            Professor   \n",
       "761        Chicago      Job Title 2019-09-01           Pharmacist   \n",
       "761        Chicago      Job Title 2019-08-01           Pharmacist   \n",
       "761        Chicago      Job Title 2019-07-01           Pharmacist   \n",
       "761        Chicago      Job Title 2019-06-01           Pharmacist   \n",
       "761        Chicago      Job Title 2019-05-01           Pharmacist   \n",
       "464        Houston      Job Title 2019-09-01             Attorney   \n",
       "464        Houston      Job Title 2019-08-01             Attorney   \n",
       "464        Houston      Job Title 2019-07-01             Attorney   \n",
       "464        Houston      Job Title 2019-06-01             Attorney   \n",
       "464        Houston      Job Title 2019-05-01             Attorney   \n",
       "341    Los Angeles      Job Title 2019-09-01           Pharmacist   \n",
       "341    Los Angeles      Job Title 2019-08-01           Pharmacist   \n",
       "341    Los Angeles      Job Title 2019-07-01           Pharmacist   \n",
       "341    Los Angeles      Job Title 2019-06-01           Pharmacist   \n",
       "341    Los Angeles      Job Title 2019-05-01           Pharmacist   \n",
       "89        National      Job Title 2019-09-01           Pharmacist   \n",
       "89        National      Job Title 2019-08-01           Pharmacist   \n",
       "89        National      Job Title 2019-07-01           Pharmacist   \n",
       "89        National      Job Title 2019-06-01           Pharmacist   \n",
       "89        National      Job Title 2019-05-01           Pharmacist   \n",
       "212  New York City      Job Title 2019-09-01             Attorney   \n",
       "212  New York City      Job Title 2019-08-01             Attorney   \n",
       "212  New York City      Job Title 2019-07-01             Attorney   \n",
       "212  New York City      Job Title 2019-06-01             Attorney   \n",
       "212  New York City      Job Title 2019-05-01             Attorney   \n",
       "425   Philadelphia      Job Title 2019-09-01           Pharmacist   \n",
       "425   Philadelphia      Job Title 2019-08-01           Pharmacist   \n",
       "425   Philadelphia      Job Title 2019-07-01           Pharmacist   \n",
       "425   Philadelphia      Job Title 2019-06-01           Pharmacist   \n",
       "425   Philadelphia      Job Title 2019-05-01           Pharmacist   \n",
       "632  San Francisco      Job Title 2019-09-01             Attorney   \n",
       "632  San Francisco      Job Title 2019-08-01             Attorney   \n",
       "632  San Francisco      Job Title 2019-07-01             Attorney   \n",
       "632  San Francisco      Job Title 2019-06-01             Attorney   \n",
       "632  San Francisco      Job Title 2019-05-01             Attorney   \n",
       "565        Seattle      Job Title 2019-09-01       Data Scientist   \n",
       "565        Seattle      Job Title 2019-08-01       Data Scientist   \n",
       "565        Seattle      Job Title 2019-07-01       Data Scientist   \n",
       "565        Seattle      Job Title 2019-06-01       Data Scientist   \n",
       "565        Seattle      Job Title 2019-05-01       Data Scientist   \n",
       "884  Washington DC      Job Title 2019-09-01             Attorney   \n",
       "884  Washington DC      Job Title 2019-08-01             Attorney   \n",
       "884  Washington DC      Job Title 2019-07-01             Attorney   \n",
       "884  Washington DC      Job Title 2019-06-01             Attorney   \n",
       "884  Washington DC      Job Title 2019-05-01             Attorney   \n",
       "\n",
       "             Measure   Value    YoY  \n",
       "197  Median Base Pay  120207   3.8%  \n",
       "197  Median Base Pay  119507   3.0%  \n",
       "197  Median Base Pay  117176   0.4%  \n",
       "197  Median Base Pay  117993   0.3%  \n",
       "197  Median Base Pay  118782   1.8%  \n",
       "852  Median Base Pay  123479   3.9%  \n",
       "852  Median Base Pay  121399   2.1%  \n",
       "852  Median Base Pay  120776   1.0%  \n",
       "852  Median Base Pay  120413   0.5%  \n",
       "852  Median Base Pay  119550   0.3%  \n",
       "761  Median Base Pay  121067  -1.6%  \n",
       "761  Median Base Pay  121098  -1.4%  \n",
       "761  Median Base Pay  121986  -0.9%  \n",
       "761  Median Base Pay  121841  -0.7%  \n",
       "761  Median Base Pay  122120  -0.6%  \n",
       "464  Median Base Pay  123589   1.0%  \n",
       "464  Median Base Pay  122557  -0.3%  \n",
       "464  Median Base Pay  121176  -1.4%  \n",
       "464  Median Base Pay  118733  -4.0%  \n",
       "464  Median Base Pay  120580  -3.2%  \n",
       "341  Median Base Pay  136178  -1.2%  \n",
       "341  Median Base Pay  136515  -0.6%  \n",
       "341  Median Base Pay  137371   0.1%  \n",
       "341  Median Base Pay  137497   0.2%  \n",
       "341  Median Base Pay  137440  -0.2%  \n",
       "89   Median Base Pay  125211  -1.9%  \n",
       "89   Median Base Pay  125441  -1.6%  \n",
       "89   Median Base Pay  126442  -0.7%  \n",
       "89   Median Base Pay  126573  -0.6%  \n",
       "89   Median Base Pay  127267  -0.2%  \n",
       "212  Median Base Pay  129633   1.1%  \n",
       "212  Median Base Pay  129165  -0.1%  \n",
       "212  Median Base Pay  128039  -1.4%  \n",
       "212  Median Base Pay  127111  -2.4%  \n",
       "212  Median Base Pay  128977  -1.9%  \n",
       "425  Median Base Pay  118820  -2.1%  \n",
       "425  Median Base Pay  118559  -2.2%  \n",
       "425  Median Base Pay  119618  -1.6%  \n",
       "425  Median Base Pay  120672  -0.6%  \n",
       "425  Median Base Pay  120886  -0.4%  \n",
       "632  Median Base Pay  154758   1.8%  \n",
       "632  Median Base Pay  152159   0.5%  \n",
       "632  Median Base Pay  151630  -0.0%  \n",
       "632  Median Base Pay  149757  -1.7%  \n",
       "632  Median Base Pay  151906  -0.9%  \n",
       "565  Median Base Pay  128510   0.7%  \n",
       "565  Median Base Pay  128897   2.2%  \n",
       "565  Median Base Pay  129694   3.7%  \n",
       "565  Median Base Pay  128879   4.3%  \n",
       "565  Median Base Pay  127463   3.0%  \n",
       "884  Median Base Pay  137609   1.2%  \n",
       "884  Median Base Pay  136354  -0.2%  \n",
       "884  Median Base Pay  134691  -1.1%  \n",
       "884  Median Base Pay  133468  -2.7%  \n",
       "884  Median Base Pay  135064  -1.8%  "
      ]
     },
     "execution_count": 49,
     "metadata": {},
     "output_type": "execute_result"
    }
   ],
   "source": [
    "grpByMetro"
   ]
  },
  {
   "cell_type": "markdown",
   "metadata": {},
   "source": [
    "# Answer for Hypothesis 2: <br>\n",
    "Atlant : Solutions Architect <br>\n",
    "Boston : Professor <br>\n",
    "Chicago : Pharmacist<br>\n",
    "Huston : Attorney<br>\n",
    "Los Angeles : Pharmacist<br>\n",
    "New York City : Attorney<br>\n",
    "Philadelphia : Pharmacist<br>\n",
    "San Francisco : Attorney<br>\n",
    "Seattle : Data Scientist<br>\n",
    "Washington DC : Attorney<br>"
   ]
  },
  {
   "cell_type": "markdown",
   "metadata": {},
   "source": [
    "### Lets plot the average Pay of highest Paid profession of each Metro."
   ]
  },
  {
   "cell_type": "code",
   "execution_count": 50,
   "metadata": {},
   "outputs": [],
   "source": [
    "CityProfession=(grpByMetro['Metro']+' / '+grpByMetro['Dimension']).unique()"
   ]
  },
  {
   "cell_type": "markdown",
   "metadata": {},
   "source": [
    "Getting the mean value for each metro and storing it to a list."
   ]
  },
  {
   "cell_type": "code",
   "execution_count": 51,
   "metadata": {},
   "outputs": [],
   "source": [
    "cities=list(grpByMetro['Metro'].unique())\n",
    "meanValue=[]\n",
    "for city in cities:\n",
    "    meanValue.append(grpByMetro.groupby(['Metro']).get_group(city)['Value'].mean())"
   ]
  },
  {
   "cell_type": "code",
   "execution_count": 52,
   "metadata": {},
   "outputs": [
    {
     "data": {
      "text/plain": [
       "[118733.0,\n",
       " 121123.4,\n",
       " 121622.4,\n",
       " 121327.0,\n",
       " 137000.2,\n",
       " 126186.8,\n",
       " 128585.0,\n",
       " 119711.0,\n",
       " 152042.0,\n",
       " 128688.6,\n",
       " 135437.2]"
      ]
     },
     "execution_count": 52,
     "metadata": {},
     "output_type": "execute_result"
    }
   ],
   "source": [
    "meanValue"
   ]
  },
  {
   "cell_type": "code",
   "execution_count": 53,
   "metadata": {},
   "outputs": [
    {
     "data": {
      "image/png": "[encoded data removed]",
      "text/plain": [
       "<Figure size 792x432 with 1 Axes>"
      ]
     },
     "metadata": {
      "needs_background": "light"
     },
     "output_type": "display_data"
    }
   ],
   "source": [
    "f, ax = plt.subplots(figsize=(11,6))\n",
    "sns.barplot(x=CityProfession,y=meanValue)\n",
    "plt.xlabel('Metro/Profession')\n",
    "plt.ylabel('Pay')\n",
    "plt.xticks(rotation='vertical')\n",
    "plt.title(' Average Pay for Highest Paid Profession of each Metro.')\n",
    "plt.show()"
   ]
  },
  {
   "cell_type": "markdown",
   "metadata": {},
   "source": [
    "# Hypothesis 3: Which one is more, Technology Jobs or Non-Technology jobs? "
   ]
  },
  {
   "cell_type": "markdown",
   "metadata": {},
   "source": [
    "For this hyposthesis we will be using industry Data Frame"
   ]
  },
  {
   "cell_type": "code",
   "execution_count": 54,
   "metadata": {
    "scrolled": true
   },
   "outputs": [
    {
     "data": {
      "text/html": [
       "<div>\n",
       "<style scoped>\n",
       "    .dataframe tbody tr th:only-of-type {\n",
       "        vertical-align: middle;\n",
       "    }\n",
       "\n",
       "    .dataframe tbody tr th {\n",
       "        vertical-align: top;\n",
       "    }\n",
       "\n",
       "    .dataframe thead th {\n",
       "        text-align: right;\n",
       "    }\n",
       "</style>\n",
       "<table border=\"1\" class=\"dataframe\">\n",
       "  <thead>\n",
       "    <tr style=\"text-align: right;\">\n",
       "      <th></th>\n",
       "      <th>Metro</th>\n",
       "      <th>Dimension_Type</th>\n",
       "      <th>Month</th>\n",
       "      <th>Dimension</th>\n",
       "      <th>Measure</th>\n",
       "      <th>Value</th>\n",
       "      <th>YoY</th>\n",
       "    </tr>\n",
       "  </thead>\n",
       "  <tbody>\n",
       "    <tr>\n",
       "      <th>1032</th>\n",
       "      <td>National</td>\n",
       "      <td>Industry</td>\n",
       "      <td>2019-09-01</td>\n",
       "      <td>Accounting &amp; Legal</td>\n",
       "      <td>Median Base Pay</td>\n",
       "      <td>54340</td>\n",
       "      <td>NaN</td>\n",
       "    </tr>\n",
       "    <tr>\n",
       "      <th>1033</th>\n",
       "      <td>National</td>\n",
       "      <td>Industry</td>\n",
       "      <td>2019-09-01</td>\n",
       "      <td>Aerospace &amp; Defense</td>\n",
       "      <td>Median Base Pay</td>\n",
       "      <td>56086</td>\n",
       "      <td>NaN</td>\n",
       "    </tr>\n",
       "    <tr>\n",
       "      <th>1034</th>\n",
       "      <td>National</td>\n",
       "      <td>Industry</td>\n",
       "      <td>2019-09-01</td>\n",
       "      <td>Architecture &amp; Civil Engineering</td>\n",
       "      <td>Median Base Pay</td>\n",
       "      <td>54549</td>\n",
       "      <td>NaN</td>\n",
       "    </tr>\n",
       "    <tr>\n",
       "      <th>1035</th>\n",
       "      <td>National</td>\n",
       "      <td>Industry</td>\n",
       "      <td>2019-09-01</td>\n",
       "      <td>Arts &amp; Entertainment</td>\n",
       "      <td>Median Base Pay</td>\n",
       "      <td>47965</td>\n",
       "      <td>NaN</td>\n",
       "    </tr>\n",
       "    <tr>\n",
       "      <th>1036</th>\n",
       "      <td>National</td>\n",
       "      <td>Industry</td>\n",
       "      <td>2019-09-01</td>\n",
       "      <td>Automotive</td>\n",
       "      <td>Median Base Pay</td>\n",
       "      <td>48455</td>\n",
       "      <td>NaN</td>\n",
       "    </tr>\n",
       "  </tbody>\n",
       "</table>\n",
       "</div>"
      ],
      "text/plain": [
       "         Metro Dimension_Type      Month                         Dimension  \\\n",
       "1032  National       Industry 2019-09-01                Accounting & Legal   \n",
       "1033  National       Industry 2019-09-01               Aerospace & Defense   \n",
       "1034  National       Industry 2019-09-01  Architecture & Civil Engineering   \n",
       "1035  National       Industry 2019-09-01              Arts & Entertainment   \n",
       "1036  National       Industry 2019-09-01                        Automotive   \n",
       "\n",
       "              Measure  Value  YoY  \n",
       "1032  Median Base Pay  54340  NaN  \n",
       "1033  Median Base Pay  56086  NaN  \n",
       "1034  Median Base Pay  54549  NaN  \n",
       "1035  Median Base Pay  47965  NaN  \n",
       "1036  Median Base Pay  48455  NaN  "
      ]
     },
     "execution_count": 54,
     "metadata": {},
     "output_type": "execute_result"
    }
   ],
   "source": [
    "industry.head()"
   ]
  },
  {
   "cell_type": "code",
   "execution_count": 55,
   "metadata": {},
   "outputs": [
    {
     "data": {
      "text/plain": [
       "array(['Accounting & Legal', 'Aerospace & Defense',\n",
       "       'Architecture & Civil Engineering', 'Arts & Entertainment',\n",
       "       'Automotive', 'Banking & Financial Services', 'Beauty & Fitness',\n",
       "       'Biotech & Pharmaceuticals', 'Business Services',\n",
       "       'Computer Software & Hardware', 'Construction', 'Consulting',\n",
       "       'Consumer Electronics', 'Consumer Services', 'Education & Schools',\n",
       "       'Energy & Utilities', 'Facilities', 'Farming & Agriculture',\n",
       "       'Government', 'Health Care & Hospitals', 'Information Technology',\n",
       "       'Insurance', 'Internet & Tech', 'Manufacturing',\n",
       "       'Marketing & Advertising', 'Media & Publishing', 'Nonprofit',\n",
       "       'Private Security', 'Real Estate', 'Recruiting & Staffing',\n",
       "       'Restaurants & Bars', 'Retail', 'Supermarkets',\n",
       "       'Telecommunications', 'Transportation & Logistics',\n",
       "       'Travel & Tourism', 'Wholesale', 'Other'], dtype=object)"
      ]
     },
     "execution_count": 55,
     "metadata": {},
     "output_type": "execute_result"
    }
   ],
   "source": [
    "industry['Dimension'].unique()"
   ]
  },
  {
   "cell_type": "markdown",
   "metadata": {},
   "source": [
    "#### From the above list of all the Profession, making the list of 5 profession as technical and non-technical."
   ]
  },
  {
   "cell_type": "code",
   "execution_count": 56,
   "metadata": {},
   "outputs": [],
   "source": [
    "techJobs=['Computer Software & Hardware','Biotech & Pharmaceuticals','Information Technology','Internet & Tech','Telecommunications']\n",
    "NonTechJobs=['Travel & Tourism','Education & Schools','Farming & Agriculture','Real Estate','Transportation & Logistics']"
   ]
  },
  {
   "cell_type": "code",
   "execution_count": 57,
   "metadata": {},
   "outputs": [
    {
     "data": {
      "text/plain": [
       "array(['Median Base Pay', 'Job Openings'], dtype=object)"
      ]
     },
     "execution_count": 57,
     "metadata": {},
     "output_type": "execute_result"
    }
   ],
   "source": [
    "industry['Measure'].unique()"
   ]
  },
  {
   "cell_type": "markdown",
   "metadata": {},
   "source": [
    "Fetching out all the entries from the industry DataFrame which has Measure as 'Job Opening' and the Dimension matches the list 'NonTechJobs' and grouping them by Month. Also excluding the Metro as 'National'"
   ]
  },
  {
   "cell_type": "code",
   "execution_count": 58,
   "metadata": {},
   "outputs": [],
   "source": [
    "nonTechIndustry=(industry[(industry['Measure']=='Job Openings') & (industry['Metro'] != 'National') & (industry['Dimension'].isin(NonTechJobs))]).groupby('Month')"
   ]
  },
  {
   "cell_type": "code",
   "execution_count": 59,
   "metadata": {},
   "outputs": [
    {
     "data": {
      "text/html": [
       "<div>\n",
       "<style scoped>\n",
       "    .dataframe tbody tr th:only-of-type {\n",
       "        vertical-align: middle;\n",
       "    }\n",
       "\n",
       "    .dataframe tbody tr th {\n",
       "        vertical-align: top;\n",
       "    }\n",
       "\n",
       "    .dataframe thead th {\n",
       "        text-align: right;\n",
       "    }\n",
       "</style>\n",
       "<table border=\"1\" class=\"dataframe\">\n",
       "  <thead>\n",
       "    <tr style=\"text-align: right;\">\n",
       "      <th></th>\n",
       "      <th>Metro</th>\n",
       "      <th>Dimension_Type</th>\n",
       "      <th>Dimension</th>\n",
       "      <th>Measure</th>\n",
       "      <th>Value</th>\n",
       "      <th>YoY</th>\n",
       "    </tr>\n",
       "    <tr>\n",
       "      <th>Month</th>\n",
       "      <th></th>\n",
       "      <th></th>\n",
       "      <th></th>\n",
       "      <th></th>\n",
       "      <th></th>\n",
       "      <th></th>\n",
       "    </tr>\n",
       "  </thead>\n",
       "  <tbody>\n",
       "    <tr>\n",
       "      <th>2019-05-01</th>\n",
       "      <td>Atlanta</td>\n",
       "      <td>Industry</td>\n",
       "      <td>Education &amp; Schools</td>\n",
       "      <td>Job Openings</td>\n",
       "      <td>4532</td>\n",
       "      <td>0.278021</td>\n",
       "    </tr>\n",
       "    <tr>\n",
       "      <th>2019-06-01</th>\n",
       "      <td>Atlanta</td>\n",
       "      <td>Industry</td>\n",
       "      <td>Education &amp; Schools</td>\n",
       "      <td>Job Openings</td>\n",
       "      <td>4160</td>\n",
       "      <td>0.140204</td>\n",
       "    </tr>\n",
       "    <tr>\n",
       "      <th>2019-07-01</th>\n",
       "      <td>Atlanta</td>\n",
       "      <td>Industry</td>\n",
       "      <td>Education &amp; Schools</td>\n",
       "      <td>Job Openings</td>\n",
       "      <td>4249</td>\n",
       "      <td>0.273565</td>\n",
       "    </tr>\n",
       "    <tr>\n",
       "      <th>2019-08-01</th>\n",
       "      <td>Atlanta</td>\n",
       "      <td>Industry</td>\n",
       "      <td>Education &amp; Schools</td>\n",
       "      <td>Job Openings</td>\n",
       "      <td>3563</td>\n",
       "      <td>0.096983</td>\n",
       "    </tr>\n",
       "    <tr>\n",
       "      <th>2019-09-01</th>\n",
       "      <td>Atlanta</td>\n",
       "      <td>Industry</td>\n",
       "      <td>Education &amp; Schools</td>\n",
       "      <td>Job Openings</td>\n",
       "      <td>3776</td>\n",
       "      <td>0.210644</td>\n",
       "    </tr>\n",
       "  </tbody>\n",
       "</table>\n",
       "</div>"
      ],
      "text/plain": [
       "              Metro Dimension_Type            Dimension       Measure  Value  \\\n",
       "Month                                                                          \n",
       "2019-05-01  Atlanta       Industry  Education & Schools  Job Openings   4532   \n",
       "2019-06-01  Atlanta       Industry  Education & Schools  Job Openings   4160   \n",
       "2019-07-01  Atlanta       Industry  Education & Schools  Job Openings   4249   \n",
       "2019-08-01  Atlanta       Industry  Education & Schools  Job Openings   3563   \n",
       "2019-09-01  Atlanta       Industry  Education & Schools  Job Openings   3776   \n",
       "\n",
       "                 YoY  \n",
       "Month                 \n",
       "2019-05-01  0.278021  \n",
       "2019-06-01  0.140204  \n",
       "2019-07-01  0.273565  \n",
       "2019-08-01  0.096983  \n",
       "2019-09-01  0.210644  "
      ]
     },
     "execution_count": 59,
     "metadata": {},
     "output_type": "execute_result"
    }
   ],
   "source": [
    "nonTechIndustry.first()"
   ]
  },
  {
   "cell_type": "markdown",
   "metadata": {},
   "source": [
    "Fetching out all the entries from the industry DataFrame which has Measure as 'Job Opening' and the Dimension matches the list 'techJobs' and grouping them by Month. Also excluding the Metro as 'National'"
   ]
  },
  {
   "cell_type": "code",
   "execution_count": 60,
   "metadata": {},
   "outputs": [],
   "source": [
    "techIndustry=(industry[(industry['Measure']=='Job Openings') & (industry['Metro'] != 'National') & (industry['Dimension'].isin(techJobs))]).groupby('Month')"
   ]
  },
  {
   "cell_type": "code",
   "execution_count": 61,
   "metadata": {},
   "outputs": [
    {
     "data": {
      "text/html": [
       "<div>\n",
       "<style scoped>\n",
       "    .dataframe tbody tr th:only-of-type {\n",
       "        vertical-align: middle;\n",
       "    }\n",
       "\n",
       "    .dataframe tbody tr th {\n",
       "        vertical-align: top;\n",
       "    }\n",
       "\n",
       "    .dataframe thead th {\n",
       "        text-align: right;\n",
       "    }\n",
       "</style>\n",
       "<table border=\"1\" class=\"dataframe\">\n",
       "  <thead>\n",
       "    <tr style=\"text-align: right;\">\n",
       "      <th></th>\n",
       "      <th>Metro</th>\n",
       "      <th>Dimension_Type</th>\n",
       "      <th>Dimension</th>\n",
       "      <th>Measure</th>\n",
       "      <th>Value</th>\n",
       "      <th>YoY</th>\n",
       "    </tr>\n",
       "    <tr>\n",
       "      <th>Month</th>\n",
       "      <th></th>\n",
       "      <th></th>\n",
       "      <th></th>\n",
       "      <th></th>\n",
       "      <th></th>\n",
       "      <th></th>\n",
       "    </tr>\n",
       "  </thead>\n",
       "  <tbody>\n",
       "    <tr>\n",
       "      <th>2019-05-01</th>\n",
       "      <td>Atlanta</td>\n",
       "      <td>Industry</td>\n",
       "      <td>Biotech &amp; Pharmaceuticals</td>\n",
       "      <td>Job Openings</td>\n",
       "      <td>936</td>\n",
       "      <td>-0.000534</td>\n",
       "    </tr>\n",
       "    <tr>\n",
       "      <th>2019-06-01</th>\n",
       "      <td>Atlanta</td>\n",
       "      <td>Industry</td>\n",
       "      <td>Biotech &amp; Pharmaceuticals</td>\n",
       "      <td>Job Openings</td>\n",
       "      <td>933</td>\n",
       "      <td>-0.078519</td>\n",
       "    </tr>\n",
       "    <tr>\n",
       "      <th>2019-07-01</th>\n",
       "      <td>Atlanta</td>\n",
       "      <td>Industry</td>\n",
       "      <td>Biotech &amp; Pharmaceuticals</td>\n",
       "      <td>Job Openings</td>\n",
       "      <td>1038</td>\n",
       "      <td>0.016393</td>\n",
       "    </tr>\n",
       "    <tr>\n",
       "      <th>2019-08-01</th>\n",
       "      <td>Atlanta</td>\n",
       "      <td>Industry</td>\n",
       "      <td>Biotech &amp; Pharmaceuticals</td>\n",
       "      <td>Job Openings</td>\n",
       "      <td>1157</td>\n",
       "      <td>-0.001079</td>\n",
       "    </tr>\n",
       "    <tr>\n",
       "      <th>2019-09-01</th>\n",
       "      <td>Atlanta</td>\n",
       "      <td>Industry</td>\n",
       "      <td>Biotech &amp; Pharmaceuticals</td>\n",
       "      <td>Job Openings</td>\n",
       "      <td>1093</td>\n",
       "      <td>-0.018194</td>\n",
       "    </tr>\n",
       "  </tbody>\n",
       "</table>\n",
       "</div>"
      ],
      "text/plain": [
       "              Metro Dimension_Type                  Dimension       Measure  \\\n",
       "Month                                                                         \n",
       "2019-05-01  Atlanta       Industry  Biotech & Pharmaceuticals  Job Openings   \n",
       "2019-06-01  Atlanta       Industry  Biotech & Pharmaceuticals  Job Openings   \n",
       "2019-07-01  Atlanta       Industry  Biotech & Pharmaceuticals  Job Openings   \n",
       "2019-08-01  Atlanta       Industry  Biotech & Pharmaceuticals  Job Openings   \n",
       "2019-09-01  Atlanta       Industry  Biotech & Pharmaceuticals  Job Openings   \n",
       "\n",
       "            Value       YoY  \n",
       "Month                        \n",
       "2019-05-01    936 -0.000534  \n",
       "2019-06-01    933 -0.078519  \n",
       "2019-07-01   1038  0.016393  \n",
       "2019-08-01   1157 -0.001079  \n",
       "2019-09-01   1093 -0.018194  "
      ]
     },
     "execution_count": 61,
     "metadata": {},
     "output_type": "execute_result"
    }
   ],
   "source": [
    "techIndustry.first()"
   ]
  },
  {
   "cell_type": "markdown",
   "metadata": {},
   "source": [
    "Now we got all numbers of Job Opening of Technology and non-Technology job, we can sum them to get the total number of job for each month."
   ]
  },
  {
   "cell_type": "markdown",
   "metadata": {},
   "source": [
    "Sum of Non-Tech Jobs"
   ]
  },
  {
   "cell_type": "code",
   "execution_count": 62,
   "metadata": {
    "scrolled": true
   },
   "outputs": [
    {
     "data": {
      "text/html": [
       "<div>\n",
       "<style scoped>\n",
       "    .dataframe tbody tr th:only-of-type {\n",
       "        vertical-align: middle;\n",
       "    }\n",
       "\n",
       "    .dataframe tbody tr th {\n",
       "        vertical-align: top;\n",
       "    }\n",
       "\n",
       "    .dataframe thead th {\n",
       "        text-align: right;\n",
       "    }\n",
       "</style>\n",
       "<table border=\"1\" class=\"dataframe\">\n",
       "  <thead>\n",
       "    <tr style=\"text-align: right;\">\n",
       "      <th></th>\n",
       "      <th>Dimension</th>\n",
       "      <th>Value</th>\n",
       "    </tr>\n",
       "    <tr>\n",
       "      <th>Month</th>\n",
       "      <th></th>\n",
       "      <th></th>\n",
       "    </tr>\n",
       "  </thead>\n",
       "  <tbody>\n",
       "    <tr>\n",
       "      <th>2019-05-01</th>\n",
       "      <td>Education &amp; SchoolsFarming &amp; AgricultureReal E...</td>\n",
       "      <td>177548</td>\n",
       "    </tr>\n",
       "    <tr>\n",
       "      <th>2019-06-01</th>\n",
       "      <td>Education &amp; SchoolsFarming &amp; AgricultureReal E...</td>\n",
       "      <td>159399</td>\n",
       "    </tr>\n",
       "    <tr>\n",
       "      <th>2019-07-01</th>\n",
       "      <td>Education &amp; SchoolsFarming &amp; AgricultureReal E...</td>\n",
       "      <td>158199</td>\n",
       "    </tr>\n",
       "    <tr>\n",
       "      <th>2019-08-01</th>\n",
       "      <td>Education &amp; SchoolsFarming &amp; AgricultureReal E...</td>\n",
       "      <td>161456</td>\n",
       "    </tr>\n",
       "    <tr>\n",
       "      <th>2019-09-01</th>\n",
       "      <td>Education &amp; SchoolsFarming &amp; AgricultureReal E...</td>\n",
       "      <td>160713</td>\n",
       "    </tr>\n",
       "  </tbody>\n",
       "</table>\n",
       "</div>"
      ],
      "text/plain": [
       "                                                    Dimension   Value\n",
       "Month                                                                \n",
       "2019-05-01  Education & SchoolsFarming & AgricultureReal E...  177548\n",
       "2019-06-01  Education & SchoolsFarming & AgricultureReal E...  159399\n",
       "2019-07-01  Education & SchoolsFarming & AgricultureReal E...  158199\n",
       "2019-08-01  Education & SchoolsFarming & AgricultureReal E...  161456\n",
       "2019-09-01  Education & SchoolsFarming & AgricultureReal E...  160713"
      ]
     },
     "execution_count": 62,
     "metadata": {},
     "output_type": "execute_result"
    }
   ],
   "source": [
    "nonTechIndustry['Dimension','Value'].sum()"
   ]
  },
  {
   "cell_type": "markdown",
   "metadata": {},
   "source": [
    "Sum of all Tech Jobs"
   ]
  },
  {
   "cell_type": "code",
   "execution_count": 63,
   "metadata": {},
   "outputs": [
    {
     "data": {
      "text/html": [
       "<div>\n",
       "<style scoped>\n",
       "    .dataframe tbody tr th:only-of-type {\n",
       "        vertical-align: middle;\n",
       "    }\n",
       "\n",
       "    .dataframe tbody tr th {\n",
       "        vertical-align: top;\n",
       "    }\n",
       "\n",
       "    .dataframe thead th {\n",
       "        text-align: right;\n",
       "    }\n",
       "</style>\n",
       "<table border=\"1\" class=\"dataframe\">\n",
       "  <thead>\n",
       "    <tr style=\"text-align: right;\">\n",
       "      <th></th>\n",
       "      <th>Dimension</th>\n",
       "      <th>Value</th>\n",
       "    </tr>\n",
       "    <tr>\n",
       "      <th>Month</th>\n",
       "      <th></th>\n",
       "      <th></th>\n",
       "    </tr>\n",
       "  </thead>\n",
       "  <tbody>\n",
       "    <tr>\n",
       "      <th>2019-05-01</th>\n",
       "      <td>Biotech &amp; PharmaceuticalsComputer Software &amp; H...</td>\n",
       "      <td>204468</td>\n",
       "    </tr>\n",
       "    <tr>\n",
       "      <th>2019-06-01</th>\n",
       "      <td>Biotech &amp; PharmaceuticalsComputer Software &amp; H...</td>\n",
       "      <td>196011</td>\n",
       "    </tr>\n",
       "    <tr>\n",
       "      <th>2019-07-01</th>\n",
       "      <td>Biotech &amp; PharmaceuticalsComputer Software &amp; H...</td>\n",
       "      <td>194649</td>\n",
       "    </tr>\n",
       "    <tr>\n",
       "      <th>2019-08-01</th>\n",
       "      <td>Biotech &amp; PharmaceuticalsComputer Software &amp; H...</td>\n",
       "      <td>205507</td>\n",
       "    </tr>\n",
       "    <tr>\n",
       "      <th>2019-09-01</th>\n",
       "      <td>Biotech &amp; PharmaceuticalsComputer Software &amp; H...</td>\n",
       "      <td>200008</td>\n",
       "    </tr>\n",
       "  </tbody>\n",
       "</table>\n",
       "</div>"
      ],
      "text/plain": [
       "                                                    Dimension   Value\n",
       "Month                                                                \n",
       "2019-05-01  Biotech & PharmaceuticalsComputer Software & H...  204468\n",
       "2019-06-01  Biotech & PharmaceuticalsComputer Software & H...  196011\n",
       "2019-07-01  Biotech & PharmaceuticalsComputer Software & H...  194649\n",
       "2019-08-01  Biotech & PharmaceuticalsComputer Software & H...  205507\n",
       "2019-09-01  Biotech & PharmaceuticalsComputer Software & H...  200008"
      ]
     },
     "execution_count": 63,
     "metadata": {},
     "output_type": "execute_result"
    }
   ],
   "source": [
    "techIndustry['Dimension','Value'].sum()"
   ]
  },
  {
   "cell_type": "markdown",
   "metadata": {},
   "source": [
    "Plotting the month wise non-Tech Jobs"
   ]
  },
  {
   "cell_type": "code",
   "execution_count": 64,
   "metadata": {
    "scrolled": false
   },
   "outputs": [
    {
     "data": {
      "image/png": "[encoded data removed]",
      "text/plain": [
       "<Figure size 792x432 with 1 Axes>"
      ]
     },
     "metadata": {
      "needs_background": "light"
     },
     "output_type": "display_data"
    }
   ],
   "source": [
    "f, ax = plt.subplots(figsize=(11,6))\n",
    "plt.plot(nonTechIndustry['Value'].sum())\n",
    "plt.xlabel('Months')\n",
    "plt.ylabel('Number of Jobs')\n",
    "plt.xticks(rotation='vertical')\n",
    "plt.title(' Number of Non Tech Jobs')\n",
    "plt.show()"
   ]
  },
  {
   "cell_type": "code",
   "execution_count": 65,
   "metadata": {},
   "outputs": [
    {
     "data": {
      "image/png": "[encoded data removed]",
      "text/plain": [
       "<Figure size 792x432 with 1 Axes>"
      ]
     },
     "metadata": {
      "needs_background": "light"
     },
     "output_type": "display_data"
    }
   ],
   "source": [
    "f, ax = plt.subplots(figsize=(11,6))\n",
    "plt.plot(techIndustry['Value'].sum())\n",
    "plt.xlabel('Months')\n",
    "plt.ylabel('Number of Jobs')\n",
    "plt.xticks(rotation='vertical')\n",
    "plt.title(' Number of Tech Jobs')\n",
    "plt.show()"
   ]
  },
  {
   "cell_type": "markdown",
   "metadata": {},
   "source": [
    "### Combining the plot to see the difference"
   ]
  },
  {
   "cell_type": "code",
   "execution_count": 66,
   "metadata": {},
   "outputs": [
    {
     "data": {
      "image/png": "[encoded data removed]",
      "text/plain": [
       "<Figure size 792x432 with 1 Axes>"
      ]
     },
     "metadata": {
      "needs_background": "light"
     },
     "output_type": "display_data"
    }
   ],
   "source": [
    "f, ax = plt.subplots(figsize=(11,6))\n",
    "plt.plot(techIndustry['Value'].sum(), marker='', color='g', linewidth=2, label=\"Tech Industry\")\n",
    "plt.plot( nonTechIndustry['Value'].sum(), marker='', color='b', linewidth=2, label=\"Non Tech Industry\")\n",
    "plt.xlabel('Months')\n",
    "plt.ylabel('Number of Jobs')\n",
    "plt.xticks(rotation='vertical')\n",
    "plt.legend()\n",
    "plt.show()"
   ]
  },
  {
   "cell_type": "markdown",
   "metadata": {},
   "source": [
    "# Answer to Hyposthesis 3: Tehcnology jobs are more than Non-Technology jobs"
   ]
  },
  {
   "cell_type": "markdown",
   "metadata": {},
   "source": [
    "# Hyposthesis 4: Which metro gives the highest paid Data Science Job."
   ]
  },
  {
   "cell_type": "markdown",
   "metadata": {},
   "source": [
    "For this we will be using Job_title DataFrame"
   ]
  },
  {
   "cell_type": "code",
   "execution_count": 67,
   "metadata": {},
   "outputs": [
    {
     "data": {
      "text/html": [
       "<div>\n",
       "<style scoped>\n",
       "    .dataframe tbody tr th:only-of-type {\n",
       "        vertical-align: middle;\n",
       "    }\n",
       "\n",
       "    .dataframe tbody tr th {\n",
       "        vertical-align: top;\n",
       "    }\n",
       "\n",
       "    .dataframe thead th {\n",
       "        text-align: right;\n",
       "    }\n",
       "</style>\n",
       "<table border=\"1\" class=\"dataframe\">\n",
       "  <thead>\n",
       "    <tr style=\"text-align: right;\">\n",
       "      <th></th>\n",
       "      <th>Metro</th>\n",
       "      <th>Dimension_Type</th>\n",
       "      <th>Month</th>\n",
       "      <th>Dimension</th>\n",
       "      <th>Measure</th>\n",
       "      <th>Value</th>\n",
       "      <th>YoY</th>\n",
       "    </tr>\n",
       "  </thead>\n",
       "  <tbody>\n",
       "    <tr>\n",
       "      <th>42</th>\n",
       "      <td>National</td>\n",
       "      <td>Job Title</td>\n",
       "      <td>2019-09-01</td>\n",
       "      <td>Accountant</td>\n",
       "      <td>Median Base Pay</td>\n",
       "      <td>57616</td>\n",
       "      <td>1.3%</td>\n",
       "    </tr>\n",
       "    <tr>\n",
       "      <th>43</th>\n",
       "      <td>National</td>\n",
       "      <td>Job Title</td>\n",
       "      <td>2019-09-01</td>\n",
       "      <td>Administrative Assistant</td>\n",
       "      <td>Median Base Pay</td>\n",
       "      <td>41923</td>\n",
       "      <td>1.5%</td>\n",
       "    </tr>\n",
       "    <tr>\n",
       "      <th>44</th>\n",
       "      <td>National</td>\n",
       "      <td>Job Title</td>\n",
       "      <td>2019-09-01</td>\n",
       "      <td>Attorney</td>\n",
       "      <td>Median Base Pay</td>\n",
       "      <td>99715</td>\n",
       "      <td>0.8%</td>\n",
       "    </tr>\n",
       "    <tr>\n",
       "      <th>45</th>\n",
       "      <td>National</td>\n",
       "      <td>Job Title</td>\n",
       "      <td>2019-09-01</td>\n",
       "      <td>Bank Teller</td>\n",
       "      <td>Median Base Pay</td>\n",
       "      <td>32223</td>\n",
       "      <td>3.3%</td>\n",
       "    </tr>\n",
       "    <tr>\n",
       "      <th>46</th>\n",
       "      <td>National</td>\n",
       "      <td>Job Title</td>\n",
       "      <td>2019-09-01</td>\n",
       "      <td>Barista</td>\n",
       "      <td>Median Base Pay</td>\n",
       "      <td>25678</td>\n",
       "      <td>3.1%</td>\n",
       "    </tr>\n",
       "  </tbody>\n",
       "</table>\n",
       "</div>"
      ],
      "text/plain": [
       "       Metro Dimension_Type      Month                 Dimension  \\\n",
       "42  National      Job Title 2019-09-01                Accountant   \n",
       "43  National      Job Title 2019-09-01  Administrative Assistant   \n",
       "44  National      Job Title 2019-09-01                  Attorney   \n",
       "45  National      Job Title 2019-09-01               Bank Teller   \n",
       "46  National      Job Title 2019-09-01                   Barista   \n",
       "\n",
       "            Measure  Value   YoY  \n",
       "42  Median Base Pay  57616  1.3%  \n",
       "43  Median Base Pay  41923  1.5%  \n",
       "44  Median Base Pay  99715  0.8%  \n",
       "45  Median Base Pay  32223  3.3%  \n",
       "46  Median Base Pay  25678  3.1%  "
      ]
     },
     "execution_count": 67,
     "metadata": {},
     "output_type": "execute_result"
    }
   ],
   "source": [
    "job_title.head()"
   ]
  },
  {
   "cell_type": "code",
   "execution_count": 68,
   "metadata": {},
   "outputs": [
    {
     "data": {
      "text/plain": [
       "array(['Median Base Pay'], dtype=object)"
      ]
     },
     "execution_count": 68,
     "metadata": {},
     "output_type": "execute_result"
    }
   ],
   "source": [
    "job_title['Measure'].unique()"
   ]
  },
  {
   "cell_type": "markdown",
   "metadata": {},
   "source": [
    "Considering Data Scientist and Data Analyst under Data Science Job"
   ]
  },
  {
   "cell_type": "markdown",
   "metadata": {},
   "source": [
    "Fetching out all Data Scientist and Data Analyst Jobs from data frame"
   ]
  },
  {
   "cell_type": "code",
   "execution_count": 69,
   "metadata": {},
   "outputs": [],
   "source": [
    "dataAnalyst=job_title[(job_title['Dimension']=='Data Analyst')]\n",
    "dataScientist=job_title[(job_title['Dimension']=='Data Scientist')]"
   ]
  },
  {
   "cell_type": "markdown",
   "metadata": {},
   "source": [
    "For each month fecthing out maximum of value column, representing pay."
   ]
  },
  {
   "cell_type": "code",
   "execution_count": 70,
   "metadata": {
    "scrolled": true
   },
   "outputs": [
    {
     "data": {
      "text/html": [
       "<div>\n",
       "<style scoped>\n",
       "    .dataframe tbody tr th:only-of-type {\n",
       "        vertical-align: middle;\n",
       "    }\n",
       "\n",
       "    .dataframe tbody tr th {\n",
       "        vertical-align: top;\n",
       "    }\n",
       "\n",
       "    .dataframe thead th {\n",
       "        text-align: right;\n",
       "    }\n",
       "</style>\n",
       "<table border=\"1\" class=\"dataframe\">\n",
       "  <thead>\n",
       "    <tr style=\"text-align: right;\">\n",
       "      <th></th>\n",
       "      <th>Metro</th>\n",
       "      <th>Dimension_Type</th>\n",
       "      <th>Month</th>\n",
       "      <th>Dimension</th>\n",
       "      <th>Measure</th>\n",
       "      <th>Value</th>\n",
       "      <th>YoY</th>\n",
       "    </tr>\n",
       "  </thead>\n",
       "  <tbody>\n",
       "    <tr>\n",
       "      <th>648</th>\n",
       "      <td>San Francisco</td>\n",
       "      <td>Job Title</td>\n",
       "      <td>2019-09-01</td>\n",
       "      <td>Data Analyst</td>\n",
       "      <td>Median Base Pay</td>\n",
       "      <td>93375</td>\n",
       "      <td>4.3%</td>\n",
       "    </tr>\n",
       "    <tr>\n",
       "      <th>648</th>\n",
       "      <td>San Francisco</td>\n",
       "      <td>Job Title</td>\n",
       "      <td>2019-08-01</td>\n",
       "      <td>Data Analyst</td>\n",
       "      <td>Median Base Pay</td>\n",
       "      <td>92404</td>\n",
       "      <td>4.1%</td>\n",
       "    </tr>\n",
       "    <tr>\n",
       "      <th>648</th>\n",
       "      <td>San Francisco</td>\n",
       "      <td>Job Title</td>\n",
       "      <td>2019-07-01</td>\n",
       "      <td>Data Analyst</td>\n",
       "      <td>Median Base Pay</td>\n",
       "      <td>92999</td>\n",
       "      <td>4.2%</td>\n",
       "    </tr>\n",
       "    <tr>\n",
       "      <th>648</th>\n",
       "      <td>San Francisco</td>\n",
       "      <td>Job Title</td>\n",
       "      <td>2019-06-01</td>\n",
       "      <td>Data Analyst</td>\n",
       "      <td>Median Base Pay</td>\n",
       "      <td>92983</td>\n",
       "      <td>3.4%</td>\n",
       "    </tr>\n",
       "    <tr>\n",
       "      <th>648</th>\n",
       "      <td>San Francisco</td>\n",
       "      <td>Job Title</td>\n",
       "      <td>2019-05-01</td>\n",
       "      <td>Data Analyst</td>\n",
       "      <td>Median Base Pay</td>\n",
       "      <td>92930</td>\n",
       "      <td>2.8%</td>\n",
       "    </tr>\n",
       "  </tbody>\n",
       "</table>\n",
       "</div>"
      ],
      "text/plain": [
       "             Metro Dimension_Type      Month     Dimension          Measure  \\\n",
       "648  San Francisco      Job Title 2019-09-01  Data Analyst  Median Base Pay   \n",
       "648  San Francisco      Job Title 2019-08-01  Data Analyst  Median Base Pay   \n",
       "648  San Francisco      Job Title 2019-07-01  Data Analyst  Median Base Pay   \n",
       "648  San Francisco      Job Title 2019-06-01  Data Analyst  Median Base Pay   \n",
       "648  San Francisco      Job Title 2019-05-01  Data Analyst  Median Base Pay   \n",
       "\n",
       "     Value   YoY  \n",
       "648  93375  4.3%  \n",
       "648  92404  4.1%  \n",
       "648  92999  4.2%  \n",
       "648  92983  3.4%  \n",
       "648  92930  2.8%  "
      ]
     },
     "execution_count": 70,
     "metadata": {},
     "output_type": "execute_result"
    }
   ],
   "source": [
    "dataAnalyst.loc[dataAnalyst['Value'].idxmax()]"
   ]
  },
  {
   "cell_type": "code",
   "execution_count": 71,
   "metadata": {},
   "outputs": [
    {
     "data": {
      "text/html": [
       "<div>\n",
       "<style scoped>\n",
       "    .dataframe tbody tr th:only-of-type {\n",
       "        vertical-align: middle;\n",
       "    }\n",
       "\n",
       "    .dataframe tbody tr th {\n",
       "        vertical-align: top;\n",
       "    }\n",
       "\n",
       "    .dataframe thead th {\n",
       "        text-align: right;\n",
       "    }\n",
       "</style>\n",
       "<table border=\"1\" class=\"dataframe\">\n",
       "  <thead>\n",
       "    <tr style=\"text-align: right;\">\n",
       "      <th></th>\n",
       "      <th>Metro</th>\n",
       "      <th>Dimension_Type</th>\n",
       "      <th>Month</th>\n",
       "      <th>Dimension</th>\n",
       "      <th>Measure</th>\n",
       "      <th>Value</th>\n",
       "      <th>YoY</th>\n",
       "    </tr>\n",
       "  </thead>\n",
       "  <tbody>\n",
       "    <tr>\n",
       "      <th>649</th>\n",
       "      <td>San Francisco</td>\n",
       "      <td>Job Title</td>\n",
       "      <td>2019-09-01</td>\n",
       "      <td>Data Scientist</td>\n",
       "      <td>Median Base Pay</td>\n",
       "      <td>143516</td>\n",
       "      <td>1.1%</td>\n",
       "    </tr>\n",
       "    <tr>\n",
       "      <th>649</th>\n",
       "      <td>San Francisco</td>\n",
       "      <td>Job Title</td>\n",
       "      <td>2019-08-01</td>\n",
       "      <td>Data Scientist</td>\n",
       "      <td>Median Base Pay</td>\n",
       "      <td>143291</td>\n",
       "      <td>3.0%</td>\n",
       "    </tr>\n",
       "    <tr>\n",
       "      <th>649</th>\n",
       "      <td>San Francisco</td>\n",
       "      <td>Job Title</td>\n",
       "      <td>2019-07-01</td>\n",
       "      <td>Data Scientist</td>\n",
       "      <td>Median Base Pay</td>\n",
       "      <td>144533</td>\n",
       "      <td>5.2%</td>\n",
       "    </tr>\n",
       "    <tr>\n",
       "      <th>649</th>\n",
       "      <td>San Francisco</td>\n",
       "      <td>Job Title</td>\n",
       "      <td>2019-06-01</td>\n",
       "      <td>Data Scientist</td>\n",
       "      <td>Median Base Pay</td>\n",
       "      <td>142993</td>\n",
       "      <td>5.0%</td>\n",
       "    </tr>\n",
       "    <tr>\n",
       "      <th>649</th>\n",
       "      <td>San Francisco</td>\n",
       "      <td>Job Title</td>\n",
       "      <td>2019-05-01</td>\n",
       "      <td>Data Scientist</td>\n",
       "      <td>Median Base Pay</td>\n",
       "      <td>141996</td>\n",
       "      <td>3.4%</td>\n",
       "    </tr>\n",
       "  </tbody>\n",
       "</table>\n",
       "</div>"
      ],
      "text/plain": [
       "             Metro Dimension_Type      Month       Dimension          Measure  \\\n",
       "649  San Francisco      Job Title 2019-09-01  Data Scientist  Median Base Pay   \n",
       "649  San Francisco      Job Title 2019-08-01  Data Scientist  Median Base Pay   \n",
       "649  San Francisco      Job Title 2019-07-01  Data Scientist  Median Base Pay   \n",
       "649  San Francisco      Job Title 2019-06-01  Data Scientist  Median Base Pay   \n",
       "649  San Francisco      Job Title 2019-05-01  Data Scientist  Median Base Pay   \n",
       "\n",
       "      Value   YoY  \n",
       "649  143516  1.1%  \n",
       "649  143291  3.0%  \n",
       "649  144533  5.2%  \n",
       "649  142993  5.0%  \n",
       "649  141996  3.4%  "
      ]
     },
     "execution_count": 71,
     "metadata": {},
     "output_type": "execute_result"
    }
   ],
   "source": [
    "dataScientist.loc[dataScientist['Value'].idxmax()]"
   ]
  },
  {
   "cell_type": "markdown",
   "metadata": {},
   "source": [
    "# Answer to Hypothesis 4: For Data Science jobs the San Fancisco is offering the highest pay.<br>\n",
    "# For sept month: Data Analyst Median Pay was 93375 USD and for Data Scientist it was 143516 USD."
   ]
  },
  {
   "cell_type": "markdown",
   "metadata": {},
   "source": [
    "### Learning from this Project: Technically got a good knowledge of Python and Exploratory Data Analysis             And regarding this dataset I got to know about the Jobs and their trends. It will help me in my future job hunting."
   ]
  }
 ],
 "metadata": {
  "kernelspec": {
   "display_name": "Python 3",
   "language": "python",
   "name": "python3"
  },
  "language_info": {
   "codemirror_mode": {
    "name": "ipython",
    "version": 3
   },
   "file_extension": ".py",
   "mimetype": "text/x-python",
   "name": "python",
   "nbconvert_exporter": "python",
   "pygments_lexer": "ipython3",
   "version": "3.7.3"
  }
 },
 "nbformat": 4,
 "nbformat_minor": 2
}
